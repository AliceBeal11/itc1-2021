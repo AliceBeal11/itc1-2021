{
 "cells": [
  {
   "cell_type": "markdown",
   "id": "5bd539ce",
   "metadata": {},
   "source": [
    "# Variables\n",
    "\n",
    "## Affectation\n",
    "\n",
    "Une variable en informatique possède 3 caractéristiques :\n",
    "- un **nom**\n",
    "- une **valeur**\n",
    "- un **type**\n",
    "\n",
    "Par exemple, l'instruction suivante permet de définir une variable nommée `a`, de valeur 42 et de type entier :"
   ]
  },
  {
   "cell_type": "code",
   "execution_count": null,
   "id": "46f4dfa5",
   "metadata": {},
   "outputs": [],
   "source": [
    "a = 42  # définition d'une variable a"
   ]
  },
  {
   "cell_type": "markdown",
   "id": "4a6ccfb5",
   "metadata": {},
   "source": [
    "Lorsque l'on définit une variable de cette façon, la valeur 42 est stockée dans la mémoire RAM et peut être récupérée en écrivant le nom de la variable :"
   ]
  },
  {
   "cell_type": "code",
   "execution_count": null,
   "id": "e61f2cb6",
   "metadata": {},
   "outputs": [],
   "source": [
    "a"
   ]
  },
  {
   "cell_type": "markdown",
   "id": "111ceb40",
   "metadata": {},
   "source": [
    "Python remplace `a` par sa valeur et donne le résultat.  \n",
    "On peut aussi modifier la valeur de `a` :"
   ]
  },
  {
   "cell_type": "code",
   "execution_count": null,
   "id": "9cfc31ae",
   "metadata": {},
   "outputs": [],
   "source": [
    "a = -4  # modification de a\n",
    "a"
   ]
  },
  {
   "cell_type": "markdown",
   "id": "757d3a7b",
   "metadata": {},
   "source": [
    "De manière générale, une affectation s'écrit sous la forme suivante :\n",
    "````{margin}\n",
    "```{danger}\n",
    "Le sens du symbole = en mathématiques est très différent. Ainsi, en mathématiques, $x = x + y\\times4$ est une équation que l'on peut résoudre en $0 = y\\times4$, c'est à dire $y = 0$... rien à voir avec ce que fait Python !\n",
    "```\n",
    "````\n",
    "```python\n",
    "a = expression\n",
    "```\n",
    "**Cette affectation a pour effet de calculer la valeur de l'expression et de mettre cette valeur dans `a`.**\n",
    "\n",
    "Considérons par exemple les lignes suivantes :"
   ]
  },
  {
   "cell_type": "code",
   "execution_count": null,
   "id": "08972b4c",
   "metadata": {},
   "outputs": [],
   "source": [
    "x = 2  # x est défini en prenant la valeur 2\n",
    "y = 3  # y est défini en prenant la valeur 3\n",
    "x = x + y*4  # x + y*4 est calculé et sa valeur (14) est mise dans x\n",
    "print(x)"
   ]
  },
  {
   "cell_type": "markdown",
   "id": "29656743",
   "metadata": {},
   "source": [
    "## Types de base\n",
    "\n",
    "Voici les principaux types qui vont nous intéresser en Python :\n",
    "\n",
    "| Type | Description | Exemple |\n",
    "| --- | --- | --- |\n",
    "| `int` | entier | `0`, `42`, `-7` |\n",
    "| `float` | nombre à virgule | `3.14`, `-2.718` |\n",
    "| `bool` | booléen (vrai ou faux) | `True`, `False` |\n",
    "| `tuple` | $n$-uplet | `(1, 2, 3)`, `(3.14, \"chaine\", [1, 0])` |\n",
    "| `list` | liste | `[1, 2, 3]`, `[3.14, \"chaine\", [1, 0]]` |\n",
    "| `str` | chaîne de caractères | `\"blabla\"`, `\"\"`, `\"info\"` |\n",
    "\n",
    "### Types numériques : `int`, `float`\n",
    "\n",
    "* `int` est utilisé pour les entiers (naturels : positif ou négatif).\n",
    "* `float` est utilisé pour les nombres à virgule. Attention :  \n",
    "```{danger}\n",
    "Python utilise en fait des points pour les nombres à virgules. Les virgules sont utilisées pour séparer des éléments, par exemple dans des `tuple` ou `list` :\n",
    "```"
   ]
  },
  {
   "cell_type": "code",
   "execution_count": null,
   "id": "83f7142e",
   "metadata": {},
   "outputs": [],
   "source": [
    "e = 2,718\n",
    "print(e)  # on a défini un couple et non pas un float !\n",
    "e = 2.718\n",
    "print(e)  # cette fois, on a bien un float"
   ]
  },
  {
   "cell_type": "markdown",
   "id": "df3fd2c7",
   "metadata": {},
   "source": [
    "Voici les opérations que l'on peut effectuer sur les `int` et `float` :\n",
    "\n",
    "| Opérateur | Signification | Exemple |\n",
    "| --- | --- | --- |\n",
    "| `+` | addition | `2 + 3` vaut `5` |\n",
    "| `-` | soustraction | `2 - 3` vaut `-1` |\n",
    "| `*` | multiplication | `2*3` vaut `6` |\n",
    "| `**` | puissance | `2**3` vaut `8` |\n",
    "| `/` | division (dans $\\mathbb{Q}$) | `5/2` vaut `2.5` |\n",
    "| `//` | division **entière** (dans $\\mathbb{N}$) | `5//2` vaut `2`  |\n",
    "\n",
    "Une racine peut être calculée avec `**`. Par exemple, $\\sqrt{2} = 2^{\\frac{1}{2}}$ :"
   ]
  },
  {
   "cell_type": "code",
   "execution_count": null,
   "id": "ea5988f9",
   "metadata": {},
   "outputs": [],
   "source": [
    "2**0.5"
   ]
  },
  {
   "cell_type": "markdown",
   "id": "b95fa959",
   "metadata": {},
   "source": [
    "```{admonition} Exercice\n",
    ":class: tip\n",
    "Utiliser Python pour calculer la valeur (approximative) du nombre d'or $\\phi = \\frac{1 + \\sqrt{5}}{2}$\n",
    "```"
   ]
  },
  {
   "cell_type": "code",
   "execution_count": null,
   "id": "e645338c",
   "metadata": {},
   "outputs": [],
   "source": [
    "# Votre solution"
   ]
  },
  {
   "cell_type": "code",
   "execution_count": null,
   "id": "0e07acca",
   "metadata": {
    "tags": [
     "hide-cell"
    ]
   },
   "outputs": [],
   "source": [
    "(1 + 5**0.5)/2"
   ]
  },
  {
   "cell_type": "markdown",
   "id": "c576895b",
   "metadata": {},
   "source": [
    "````{admonition} Exercice\n",
    ":class: tip\n",
    "Calculer à la main la valeur de l'expression suivante :\n",
    "```python\n",
    "(6 + 4**0.5)/2*2\n",
    "```\n",
    "````"
   ]
  },
  {
   "cell_type": "code",
   "execution_count": null,
   "id": "25cb6360",
   "metadata": {
    "tags": [
     "hide-cell"
    ]
   },
   "outputs": [],
   "source": [
    "(6 + 4**0.5)/2*2"
   ]
  },
  {
   "cell_type": "markdown",
   "id": "e02ddf3b",
   "metadata": {},
   "source": [
    "On peut comparer des `int`/`float` de la façon suivante :\n",
    "````{margin}\n",
    "```{danger}\n",
    "Ne pas confondre `a = b`, qui permet de mettre la valeur de `b` dans `a`, et `a == b` qui permet de tester si `a` et `b` ont la même valeur.  \n",
    "```\n",
    "````\n",
    "| Symbole | Signification | Exemple |\n",
    "| --- | --- | --- |\n",
    "| `==` | égal | `0 == 0` vaut `True`, `3.14 == 3` vaut `False` |\n",
    "| `<` | inférieur strictement | `1 < 2` vaut `True`, `3.14 < 3.14` vaut `False` |\n",
    "| `>` | supérieur strictement | `1 > 2` vaut `False`, `3.14 > 3.14` vaut `False` |\n",
    "| `<=` | inférieur ou égal | `1 <= 2` vaut `True`, `3.14 <= 3.14` vaut `True` |\n",
    "| `>=` | supérieur ou égal | `1 >= 2` vaut `False`, `3.14 >= 3.14` vaut `True` |\n",
    "| `!=` | différent | `1 != 2` vaut `True`, `3.14 != 3.14` vaut `False` |\n",
    "\n",
    "\n",
    "Il est possible d'enchaîner des comparaisons. Par exemple, pour tester si $\\phi$ est compris entre 1 et 2 :"
   ]
  },
  {
   "cell_type": "code",
   "execution_count": null,
   "id": "46a326bc",
   "metadata": {},
   "outputs": [],
   "source": [
    "1 < (1 + 5**0.5)/2 < 2"
   ]
  },
  {
   "cell_type": "markdown",
   "id": "e114c39d",
   "metadata": {},
   "source": [
    "### Booléens\n",
    "\n",
    "| Opérateur | Signification | Exemple |\n",
    "| --- | --- | --- |\n",
    "| `or` | ou | `0 == 0 or 3.14 == 3` vaut `True` |\n",
    "| `and` | et | `0 == 0 and 3.14 == 3` vaut `False` |\n",
    "| `not` | négation | `not 0 < 1` vaut `False` |\n",
    "\n",
    "````{admonition} Exercice\n",
    ":class: tip\n",
    "Donner la valeur de l'expression suivante :\n",
    "```python\n",
    "not (1 <= 1 and (1 == 2 or 0 != 1))\n",
    "```\n",
    "````"
   ]
  },
  {
   "cell_type": "code",
   "execution_count": null,
   "id": "404b1440",
   "metadata": {
    "tags": [
     "hide-cell"
    ]
   },
   "outputs": [],
   "source": [
    "not (1 <= 1 and (1 == 2 or 0 != 1))"
   ]
  },
  {
   "cell_type": "markdown",
   "id": "39797cf1",
   "metadata": {},
   "source": [
    "### Listes\n",
    "\n",
    "Une liste sert à stocker plusieurs éléments. Par exemple, pour définir une liste contenant l'entier 1, le booléen `True` et le flottant `3.14` :"
   ]
  },
  {
   "cell_type": "code",
   "execution_count": null,
   "id": "59a96c3b",
   "metadata": {
    "tags": []
   },
   "outputs": [],
   "source": [
    "L = [1, True, 3.14]\n",
    "L"
   ]
  },
  {
   "cell_type": "markdown",
   "id": "5ab7034b",
   "metadata": {},
   "source": [
    "```{list-table}\n",
    ":header-rows: 1\n",
    "\n",
    "* - Python\n",
    "  - Signification\n",
    "  - Exemple\n",
    "* - `[..., ..., ...]`\n",
    "  - Création d'une liste\n",
    "  - `[1, True, 3.14]` <br> `[]` (liste vide)\n",
    "* - `len(L)`\n",
    "  - Taille d'une liste `L`\n",
    "  - `len([1, True, 3.14])` vaut 3\n",
    "* - `L[i]`\n",
    "  - Élement d'indice `i` d'une liste `L`\n",
    "  - Si `L` vaut `[1, True, 3.14]`, <br> `L[0]` vaut `1`, `L[1]` vaut `True`, `L[2]` vaut `3.14`\n",
    "* - `L.append(e)`\n",
    "  - Ajoute un élément `e` à une liste `L`\n",
    "  - `L.append(42)`\n",
    "``` \n",
    "```{danger}\n",
    "`L.append(e)` modifie `L`, il ne faut donc surtout pas écrire `L = L.append(e)` (erreur fréquente).\n",
    "```\n",
    "\n",
    "```{danger}\n",
    "Les indices commencent toujours à 0 en informatique. Le dernier indice d'une liste `L` est `len(L) - 1`.\n",
    "```\n",
    "`L[-1]` est un raccourci permettant d'accéder au dernier élément d'une liste. De même, `L[-2]` accède à l'avant dernier élément...\n",
    "\n",
    "Essayer d'accéder à un élément qui n'existe pas produit une erreur :"
   ]
  },
  {
   "cell_type": "code",
   "execution_count": null,
   "id": "d1f0463f",
   "metadata": {
    "tags": [
     "hide-output"
    ]
   },
   "outputs": [],
   "source": [
    "L = [3, 1, 4]\n",
    "print(L[2])  # donne 4\n",
    "print(L[3])  # ERREUR"
   ]
  },
  {
   "cell_type": "markdown",
   "id": "510f2d71",
   "metadata": {},
   "source": [
    "````{margin}\n",
    "```{danger}\n",
    "Les indices de fin sont presque toujours exclu en Python, par convention.\n",
    "```\n",
    "\n",
    "````\n",
    "L'opération de *slicing* `L[i:j]` permet d'extraire une sous liste de `L` contenant les éléments de l'indice `i` inclu à `j` **exclu** :"
   ]
  },
  {
   "cell_type": "code",
   "execution_count": null,
   "id": "cfd2bd1b",
   "metadata": {},
   "outputs": [],
   "source": [
    "L = [-3, 0, 42, 7, 5]\n",
    "L[1:3]"
   ]
  },
  {
   "cell_type": "markdown",
   "id": "3e4915c0",
   "metadata": {},
   "source": [
    "Dans un slicing, il est possible d'ommettre l'indice de début (auquel cas la liste ext extraite à partir du début) ou l'indice de fin (auquel cas la liste ext extraite jusqu'à la fin)."
   ]
  },
  {
   "cell_type": "code",
   "execution_count": null,
   "id": "1fdcbfc5",
   "metadata": {},
   "outputs": [],
   "source": [
    "print(L[:2])  # sous-liste du 1er au 2ème élément\n",
    "print(L[-2:])  # sous-liste de l'avant-dernier au dernier élément"
   ]
  },
  {
   "cell_type": "markdown",
   "id": "5720998a",
   "metadata": {},
   "source": [
    "### Chaînes de caractères\n",
    "\n",
    "Les chaînes de caractères (string en anglais) servent à stocker du texte, sous forme d'une suite de caractères (symboles). Contrairement aux listes, il n'est pas possible de modifier une chaîne de caractères (on dit que c'est un type immutable)). Par exemple, il n'y a pas de `append` sur les chaîne de caractères."
   ]
  },
  {
   "cell_type": "code",
   "execution_count": null,
   "id": "795daef3",
   "metadata": {
    "tags": [
     "hide-output"
    ]
   },
   "outputs": [],
   "source": [
    "s = \"l'informatique c'est fun\"  # définition d'une chaîne de caractères\n",
    "print(len(s))  # taille de s\n",
    "print(s[2])  # caractère d'indice 2 (c'est à dire en 3ème position)\n",
    "s[0] = \"L\"  # ERREUR : on ne peut pas modifier un str\n",
    "s.append(\"!\")  # ERREUR : on ne peut pas modifier un str"
   ]
  },
  {
   "cell_type": "markdown",
   "id": "e9a46a7b",
   "metadata": {},
   "source": [
    "### Tuples\n",
    "\n",
    "Les tuples (ou $n$-uplets) sont la généralisation des couples, triplets... Ils ressemblent beaucoup aux chaînes de caractères (en particulier, ils sont immutables) mais servent à stocker autre chose que du texte."
   ]
  },
  {
   "cell_type": "code",
   "execution_count": null,
   "id": "54bf420a",
   "metadata": {
    "tags": [
     "hide-output"
    ]
   },
   "outputs": [],
   "source": [
    "t = (2, 3, 4, 5)\n",
    "print(t[1])  # donne 3\n",
    "print(len(t))  # donne 4\n",
    "t[1] = 6  # ERREUR : on ne peut pas modifier un tuple\n",
    "t.append(6)  # ERREUR : on ne peut pas modifier un tuple"
   ]
  }
 ],
 "metadata": {
  "kernelspec": {
   "display_name": "Python 3.8.5 64-bit",
   "language": "python",
   "name": "python3"
  }
 },
 "nbformat": 4,
 "nbformat_minor": 5
}
