{
 "metadata": {
  "orig_nbformat": 2,
  "kernelspec": {
   "name": "python3",
   "display_name": "Python 3.8.5 64-bit"
  }
 },
 "nbformat": 4,
 "nbformat_minor": 2,
 "cells": [
  {
   "source": [
    "# Variables\n",
    "\n",
    "## Définition\n",
    "Une variable en informatique possède 3 caractéristiques :\n",
    "- un nom\n",
    "- une valeur\n",
    "- un type\n",
    "\n",
    "Par exemple, l'instruction suivante permet de définir une variable nommée `a`, de valeur 42 et de type entier :"
   ],
   "cell_type": "markdown",
   "metadata": {}
  },
  {
   "cell_type": "code",
   "execution_count": 3,
   "metadata": {},
   "outputs": [],
   "source": [
    "a = 42  # définition d'une variable a"
   ]
  },
  {
   "source": [
    "Lorsque l'on définit une variable de cette façon, la valeur 42 est stockée dans la mémoire RAM et peut être récupérée en écrivant le nom de la variable :"
   ],
   "cell_type": "markdown",
   "metadata": {}
  },
  {
   "cell_type": "code",
   "execution_count": 4,
   "metadata": {},
   "outputs": [
    {
     "output_type": "execute_result",
     "data": {
      "text/plain": [
       "42"
      ]
     },
     "metadata": {},
     "execution_count": 4
    }
   ],
   "source": [
    "a"
   ]
  },
  {
   "source": [
    "Python remplace `a` par sa valeur et donne le résultat.  \n",
    "On peut aussi modifier la valeur de `a` :"
   ],
   "cell_type": "markdown",
   "metadata": {}
  },
  {
   "cell_type": "code",
   "execution_count": 8,
   "metadata": {},
   "outputs": [
    {
     "output_type": "execute_result",
     "data": {
      "text/plain": [
       "-4"
      ]
     },
     "metadata": {},
     "execution_count": 8
    }
   ],
   "source": [
    "a = -4  # modification de a\n",
    "a"
   ]
  },
  {
   "source": [
    "```{note}\n",
    "Même si la définition d'une variable et la modification d'une variable s'écrivent de la même façon en Python (`a = ...`), il s'agit de deux instructions fondamentalement différentes.   \n",
    "```\n",
    "\n",
    "## Types classiques"
   ],
   "cell_type": "markdown",
   "metadata": {}
  },
  {
   "source": [
    "| Type Python | Description | Exemple |\n",
    "| --- | --- | --- |\n",
    "| int | entier | 0, 42, -7 |\n",
    "| bool | booléen (vrai ou faux) | True, False |\n",
    "| str | chaîne de caractères | \"blabla\", \"\", \"info\" |\n",
    "| float | nombre à virgule | 3.14, -2.718 |"
   ],
   "cell_type": "markdown",
   "metadata": {}
  }
 ]
}