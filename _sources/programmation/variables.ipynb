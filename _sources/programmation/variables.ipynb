{
 "cells": [
  {
   "cell_type": "markdown",
   "id": "f69a02c2",
   "metadata": {},
   "source": [
    "# Variables\n",
    "\n",
    "## Affectation\n",
    "\n",
    "Une variable en informatique possède 3 caractéristiques :\n",
    "- un **nom**\n",
    "- une **valeur**\n",
    "- un **type**\n",
    "\n",
    "Par exemple, l'instruction suivante permet de définir une variable nommée `a`, de valeur 42 et de type entier :"
   ]
  },
  {
   "cell_type": "code",
   "execution_count": 1,
   "id": "9d431692",
   "metadata": {},
   "outputs": [],
   "source": [
    "a = 42  # définition d'une variable a"
   ]
  },
  {
   "cell_type": "markdown",
   "id": "79a70266",
   "metadata": {},
   "source": [
    "Lorsque l'on définit une variable de cette façon, la valeur 42 est stockée dans la mémoire RAM et peut être récupérée en écrivant le nom de la variable :"
   ]
  },
  {
   "cell_type": "code",
   "execution_count": 2,
   "id": "2293639e",
   "metadata": {},
   "outputs": [
    {
     "data": {
      "text/plain": [
       "42"
      ]
     },
     "execution_count": 2,
     "metadata": {},
     "output_type": "execute_result"
    }
   ],
   "source": [
    "a"
   ]
  },
  {
   "cell_type": "markdown",
   "id": "4cc6398a",
   "metadata": {},
   "source": [
    "Python remplace `a` par sa valeur et donne le résultat.  \n",
    "On peut aussi modifier la valeur de `a` :"
   ]
  },
  {
   "cell_type": "code",
   "execution_count": 3,
   "id": "c52e1e62",
   "metadata": {},
   "outputs": [
    {
     "data": {
      "text/plain": [
       "-4"
      ]
     },
     "execution_count": 3,
     "metadata": {},
     "output_type": "execute_result"
    }
   ],
   "source": [
    "a = -4  # modification de a\n",
    "a"
   ]
  },
  {
   "cell_type": "markdown",
   "id": "c68d60af",
   "metadata": {},
   "source": [
    "De manière générale, une affectation s'écrit sous la forme suivante :\n",
    "````{margin}\n",
    "```{danger}\n",
    "Le sens du symbole = en mathématiques est très différent. Ainsi, en mathématiques, $x = x + y\\times4$ est une équation que l'on peut résoudre en $0 = y\\times4$, c'est à dire $y = 0$... rien à voir avec ce que fait Python !\n",
    "```\n",
    "````\n",
    "```python\n",
    "a = expression\n",
    "```\n",
    "**Cette affectation a pour effet de calculer la valeur de l'expression et de mettre cette valeur dans `a`.**\n",
    "\n",
    "Considérons par exemple les lignes suivantes :"
   ]
  },
  {
   "cell_type": "code",
   "execution_count": 4,
   "id": "bafe98e9",
   "metadata": {},
   "outputs": [
    {
     "name": "stdout",
     "output_type": "stream",
     "text": [
      "14\n"
     ]
    }
   ],
   "source": [
    "x = 2  # x est défini en prenant la valeur 2\n",
    "y = 3  # y est défini en prenant la valeur 3\n",
    "x = x + y*4  # x + y*4 est calculé et sa valeur (14) est mise dans x\n",
    "print(x)"
   ]
  },
  {
   "cell_type": "markdown",
   "id": "c968bdc0",
   "metadata": {},
   "source": [
    "## Types de base\n",
    "\n",
    "Voici les principaux types qui vont nous intéresser en Python :\n",
    "\n",
    "| Type | Description | Exemple |\n",
    "| --- | --- | --- |\n",
    "| `int` | entier | `0`, `42`, `-7` |\n",
    "| `float` | nombre à virgule | `3.14`, `-2.718` |\n",
    "| `bool` | booléen (vrai ou faux) | `True`, `False` |\n",
    "| `tuple` | $n$-uplet | `(1, 2, 3)`, `(3.14, \"chaine\", [1, 0])` |\n",
    "| `list` | liste | `[1, 2, 3]`, `[3.14, \"chaine\", [1, 0]]` |\n",
    "| `str` | chaîne de caractères | `\"blabla\"`, `\"\"`, `\"info\"` |\n",
    "\n",
    "### Types numériques : `int`, `float`\n",
    "\n",
    "* `int` est utilisé pour les entiers (naturels : positif ou négatif).\n",
    "* `float` est utilisé pour les nombres à virgule. Attention :  \n",
    "```{danger}\n",
    "Python utilise en fait des points pour les nombres à virgules. Les virgules sont utilisées pour séparer des éléments, par exemple dans des `tuple` ou `list` :\n",
    "```"
   ]
  },
  {
   "cell_type": "code",
   "execution_count": 5,
   "id": "b83a175c",
   "metadata": {},
   "outputs": [
    {
     "name": "stdout",
     "output_type": "stream",
     "text": [
      "(2, 718)\n",
      "2.718\n"
     ]
    }
   ],
   "source": [
    "e = 2,718\n",
    "print(e)  # on a défini un couple et non pas un float !\n",
    "e = 2.718\n",
    "print(e)  # cette fois, on a bien un float"
   ]
  },
  {
   "cell_type": "markdown",
   "id": "630d3d78",
   "metadata": {},
   "source": [
    "Voici les opérations que l'on peut effectuer sur les `int` et `float` :\n",
    "\n",
    "| Opérateur | Signification | Exemple |\n",
    "| --- | --- | --- |\n",
    "| `+` | addition | `2 + 3` vaut `5` |\n",
    "| `-` | soustraction | `2 - 3` vaut `-1` |\n",
    "| `*` | multiplication | `2*3` vaut `6` |\n",
    "| `**` | puissance | `2**3` vaut `8` |\n",
    "| `/` | division (dans $\\mathbb{Q}$) | `5/2` vaut `2.5` |\n",
    "| `//` | division **entière** (dans $\\mathbb{N}$) | `5//2` vaut `2`  |\n",
    "\n",
    "Une racine peut être calculée avec `**`. Par exemple, $\\sqrt{2} = 2^{\\frac{1}{2}}$ :"
   ]
  },
  {
   "cell_type": "code",
   "execution_count": 6,
   "id": "bb6cbfd0",
   "metadata": {},
   "outputs": [
    {
     "data": {
      "text/plain": [
       "1.4142135623730951"
      ]
     },
     "execution_count": 6,
     "metadata": {},
     "output_type": "execute_result"
    }
   ],
   "source": [
    "2**0.5"
   ]
  },
  {
   "cell_type": "markdown",
   "id": "b01b299b",
   "metadata": {},
   "source": [
    "```{admonition} Exercice\n",
    ":class: tip\n",
    "Utiliser Python pour calculer la valeur (approximative) du nombre d'or $\\phi = \\frac{1 + \\sqrt{5}}{2}$\n",
    "```"
   ]
  },
  {
   "cell_type": "code",
   "execution_count": 7,
   "id": "ff7eb14b",
   "metadata": {},
   "outputs": [],
   "source": [
    "# Votre solution"
   ]
  },
  {
   "cell_type": "code",
   "execution_count": 8,
   "id": "9b57bd0e",
   "metadata": {
    "tags": [
     "hide-cell"
    ]
   },
   "outputs": [
    {
     "data": {
      "text/plain": [
       "1.618033988749895"
      ]
     },
     "execution_count": 8,
     "metadata": {},
     "output_type": "execute_result"
    }
   ],
   "source": [
    "(1 + 5**0.5)/2"
   ]
  },
  {
   "cell_type": "markdown",
   "id": "56327bc3",
   "metadata": {},
   "source": [
    "````{admonition} Exercice\n",
    ":class: tip\n",
    "Donner la valeur de l'expression suivante :\n",
    "```python\n",
    "(6 + 4**0.5)/2*2\n",
    "```\n",
    "````"
   ]
  },
  {
   "cell_type": "code",
   "execution_count": 9,
   "id": "28403393",
   "metadata": {
    "tags": [
     "hide-cell"
    ]
   },
   "outputs": [
    {
     "data": {
      "text/plain": [
       "8.0"
      ]
     },
     "execution_count": 9,
     "metadata": {},
     "output_type": "execute_result"
    }
   ],
   "source": [
    "(6 + 4**0.5)/2*2"
   ]
  },
  {
   "cell_type": "markdown",
   "id": "a616d7d2",
   "metadata": {},
   "source": [
    "On peut comparer des `int`/`float` de la façon suivante :\n",
    "````{margin}\n",
    "```{danger}\n",
    "Ne pas confondre `a = b`, qui permet de mettre la valeur de `b` dans `a`, et `a == b` qui permet de tester si `a` et `b` ont la même valeur.  \n",
    "```\n",
    "````\n",
    "| Symbole | Signification | Exemple |\n",
    "| --- | --- | --- |\n",
    "| `==` | égal | `0 == 0` vaut `True`, `3.14 == 3` vaut `False` |\n",
    "| `<` | inférieur strictement | `1 < 2` vaut `True`, `3.14 < 3.14` vaut `False` |\n",
    "| `>` | supérieur strictement | `1 > 2` vaut `False`, `3.14 > 3.14` vaut `False` |\n",
    "| `<=` | inférieur ou égal | `1 <= 2` vaut `True`, `3.14 <= 3.14` vaut `True` |\n",
    "| `>=` | supérieur ou égal | `1 >= 2` vaut `False`, `3.14 >= 3.14` vaut `True` |\n",
    "| `!=` | différent | `1 != 2` vaut `True`, `3.14 != 3.14` vaut `False` |\n",
    "\n",
    "\n",
    "Il est possible d'enchaîner des comparaisons. Par exemple, pour tester si $\\phi$ est compris entre 1 et 2 :"
   ]
  },
  {
   "cell_type": "code",
   "execution_count": 10,
   "id": "a1c8236c",
   "metadata": {},
   "outputs": [
    {
     "data": {
      "text/plain": [
       "True"
      ]
     },
     "execution_count": 10,
     "metadata": {},
     "output_type": "execute_result"
    }
   ],
   "source": [
    "1 < (1 + 5**0.5)/2 < 2"
   ]
  },
  {
   "cell_type": "markdown",
   "id": "6f87f98d",
   "metadata": {},
   "source": [
    "### Booléens\n",
    "\n",
    "| Opérateur | Signification | Exemple |\n",
    "| --- | --- | --- |\n",
    "| `or` | ou | `0 == 0 or 3.14 == 3` vaut `True` |\n",
    "| `and` | et | `0 == 0 and 3.14 == 3` vaut `False` |\n",
    "| `not` | négation | `not 0 < 1` vaut `False` |\n",
    "\n",
    "````{admonition} Exercice\n",
    ":class: tip\n",
    "Donner la valeur de l'expression suivante :\n",
    "```python\n",
    "not (1 <= 1 and (1 == 2 or 0 != 1))\n",
    "```\n",
    "````"
   ]
  },
  {
   "cell_type": "code",
   "execution_count": 11,
   "id": "b565f729",
   "metadata": {
    "tags": [
     "hide-cell"
    ]
   },
   "outputs": [
    {
     "data": {
      "text/plain": [
       "False"
      ]
     },
     "execution_count": 11,
     "metadata": {},
     "output_type": "execute_result"
    }
   ],
   "source": [
    "not (1 <= 1 and (1 == 2 or 0 != 1))"
   ]
  },
  {
   "cell_type": "markdown",
   "id": "effe5056",
   "metadata": {},
   "source": [
    "### Listes\n",
    "\n",
    "Une liste sert à stocker plusieurs éléments. Par exemple, pour définir une liste contenant l'entier 1, le booléen `True` et le flottant `3.14` :"
   ]
  },
  {
   "cell_type": "code",
   "execution_count": 12,
   "id": "a488e730",
   "metadata": {
    "tags": []
   },
   "outputs": [
    {
     "data": {
      "text/plain": [
       "[1, True, 3.14]"
      ]
     },
     "execution_count": 12,
     "metadata": {},
     "output_type": "execute_result"
    }
   ],
   "source": [
    "L = [1, True, 3.14]\n",
    "L"
   ]
  },
  {
   "cell_type": "markdown",
   "id": "b343733d",
   "metadata": {},
   "source": [
    "```{list-table}\n",
    ":header-rows: 1\n",
    "\n",
    "* - Python\n",
    "  - Signification\n",
    "  - Exemple\n",
    "* - `[..., ..., ...]`\n",
    "  - Création d'une liste\n",
    "  - `[1, True, 3.14]` <br> `[]` (liste vide)\n",
    "* - `len(L)`\n",
    "  - Taille d'une liste `L`\n",
    "  - `len([1, True, 3.14])` vaut 3\n",
    "* - `L[i]`\n",
    "  - Élement d'indice `i` d'une liste `L`\n",
    "  - Si `L` vaut `[1, True, 3.14]`, <br> `L[0]` vaut `1`, `L[1]` vaut `True`, `L[2]` vaut `3.14`\n",
    "* - `L.append(e)`\n",
    "  - Ajoute un élément `e` à une liste `L`\n",
    "  - `L.append(42)`\n",
    "``` \n",
    "```{danger}\n",
    "`L.append(e)` modifie `L`, il ne faut donc surtout pas écrire `L = L.append(e)` (erreur fréquente).\n",
    "```\n",
    "\n",
    "```{danger}\n",
    "Les indices commencent toujours à 0 en informatique. Le dernier indice d'une liste `L` est `len(L) - 1`.\n",
    "```\n",
    "`L[-1]` est un raccourci permettant d'accéder au dernier élément d'une liste. De même, `L[-2]` accède à l'avant dernier élément...\n",
    "\n",
    "Essayer d'accéder à un élément qui n'existe pas produit une erreur :\n",
    "``` python\n",
    "L = [3, 1, 4]\n",
    "print(L[2])  # donne 4\n",
    "print(L[3])  # erreur\n",
    "```\n",
    "```\n",
    "4\n",
    "---------------------------------------------------------------------------\n",
    "IndexError                                Traceback (most recent call last)\n",
    "<ipython-input-13-e387ee5c742b> in <module>\n",
    "      1 L = [3, 1, 4]\n",
    "      2 print(L[2])  # pas de problème\n",
    "----> 3 print(L[3])  # erreur\n",
    "\n",
    "IndexError: list index out of range\n",
    "```\n",
    "\n",
    "````{margin}\n",
    "```{danger}\n",
    "Les indices de fin sont presque toujours exclu en Python, par convention.\n",
    "```\n",
    "\n",
    "````\n",
    "L'opération de *slicing* `L[i:j]` permet d'extraire une sous liste de `L` contenant les éléments de l'indice `i` inclu à `j` **exclu** :"
   ]
  },
  {
   "cell_type": "code",
   "execution_count": 13,
   "id": "3a37e101",
   "metadata": {},
   "outputs": [
    {
     "data": {
      "text/plain": [
       "[0, 42]"
      ]
     },
     "execution_count": 13,
     "metadata": {},
     "output_type": "execute_result"
    }
   ],
   "source": [
    "L = [-3, 0, 42, 7, 5]\n",
    "L[1:3]"
   ]
  },
  {
   "cell_type": "markdown",
   "id": "b46f9b83",
   "metadata": {},
   "source": [
    "Dans un slicing, il est possible d'ommettre l'indice de début (auquel cas la liste ext extraite à partir du début) ou l'indice de fin (auquel cas la liste ext extraite jusqu'à la fin)."
   ]
  },
  {
   "cell_type": "code",
   "execution_count": 14,
   "id": "15f825cc",
   "metadata": {},
   "outputs": [
    {
     "name": "stdout",
     "output_type": "stream",
     "text": [
      "[-3, 0]\n",
      "[7, 5]\n"
     ]
    }
   ],
   "source": [
    "print(L[:2])  # sous-liste du 1er au 2ème élément\n",
    "print(L[-2:])  # sous-liste de l'avant-dernier au dernier élément"
   ]
  },
  {
   "cell_type": "markdown",
   "id": "2dbb8704",
   "metadata": {},
   "source": [
    "### Chaînes de caractères\n",
    "\n",
    "Les chaînes de caractères (string en anglais) servent à stocker du texte, sous forme d'une suite de caractères (symboles). Contrairement aux listes, il n'est pas possible de modifier une chaîne de caractères (on dit que c'est un type immutable)). Par exemple, il n'y a pas de `append` sur les chaîne de caractères."
   ]
  },
  {
   "cell_type": "code",
   "execution_count": 15,
   "id": "c11f318a",
   "metadata": {},
   "outputs": [
    {
     "name": "stdout",
     "output_type": "stream",
     "text": [
      "24\n",
      "i\n"
     ]
    }
   ],
   "source": [
    "s = \"l'informatique c'est fun\"  # définition d'une chaîne de caractères\n",
    "print(len(s))  # taille de s\n",
    "print(s[2])  # caractère d'indice 2 (c'est à dire en 3ème position)\n",
    "# s[0] = \"L\"  # ERREUR : on ne peut pas modifier un str\n",
    "# s.append(\"!\")  # ERREUR : on ne peut pas modifier un str"
   ]
  },
  {
   "cell_type": "markdown",
   "id": "122a17db",
   "metadata": {},
   "source": [
    "### Tuples\n",
    "\n",
    "Les tuples (ou $n$-uplets) sont la généralisation des couples, triplets... Ils ressemblent beaucoup aux chaînes de caractères (en particulier, ils sont immutables) mais servent à stocker autre chose que du texte."
   ]
  },
  {
   "cell_type": "code",
   "execution_count": 16,
   "id": "2ec056e4",
   "metadata": {},
   "outputs": [
    {
     "name": "stdout",
     "output_type": "stream",
     "text": [
      "3\n",
      "4\n"
     ]
    }
   ],
   "source": [
    "t = (2, 3, 4, 5)\n",
    "print(t[1])  # donne 3\n",
    "print(len(t))  # donne 4\n",
    "# t[1] = 6  ERREUR : on ne peut pas modifier un tuple\n",
    "# t.append(6)  # ERREUR : on ne peut pas modifier un tuple"
   ]
  }
 ],
 "metadata": {
  "jupytext": {
   "text_representation": {
    "extension": ".md",
    "format_name": "myst",
    "format_version": 0.13,
    "jupytext_version": "1.10.0"
   }
  },
  "kernelspec": {
   "display_name": "Python 3.8.5 64-bit",
   "language": "python",
   "name": "python3"
  },
  "language_info": {
   "codemirror_mode": {
    "name": "ipython",
    "version": 3
   },
   "file_extension": ".py",
   "mimetype": "text/x-python",
   "name": "python",
   "nbconvert_exporter": "python",
   "pygments_lexer": "ipython3",
   "version": "3.8.10"
  },
  "source_map": [
   12,
   25,
   27,
   31,
   33,
   38,
   41,
   55,
   60,
   82,
   87,
   101,
   103,
   109,
   112,
   115,
   125,
   128,
   147,
   149,
   166,
   169,
   174,
   179,
   235,
   238,
   242,
   245,
   252,
   258,
   265
  ]
 },
 "nbformat": 4,
 "nbformat_minor": 5
}