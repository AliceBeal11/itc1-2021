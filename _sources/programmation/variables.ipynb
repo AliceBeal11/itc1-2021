{
 "cells": [
  {
   "cell_type": "markdown",
   "id": "95a44b31",
   "metadata": {},
   "source": [
    "# Variables\n",
    "\n",
    "## Affectation\n",
    "\n",
    "Une variable en informatique possède 3 caractéristiques :\n",
    "- un nom\n",
    "- une valeur\n",
    "- un type\n",
    "\n",
    "Par exemple, l'instruction suivante permet de définir une variable nommée `a`, de valeur 42 et de type entier :"
   ]
  },
  {
   "cell_type": "code",
   "execution_count": 1,
   "id": "0471e8ce",
   "metadata": {},
   "outputs": [],
   "source": [
    "a = 42  # définition d'une variable a"
   ]
  },
  {
   "cell_type": "markdown",
   "id": "2ebed496",
   "metadata": {},
   "source": [
    "Lorsque l'on définit une variable de cette façon, la valeur 42 est stockée dans la mémoire RAM et peut être récupérée en écrivant le nom de la variable :"
   ]
  },
  {
   "cell_type": "code",
   "execution_count": 2,
   "id": "490ecc90",
   "metadata": {},
   "outputs": [
    {
     "data": {
      "text/plain": [
       "42"
      ]
     },
     "execution_count": 2,
     "metadata": {},
     "output_type": "execute_result"
    }
   ],
   "source": [
    "a"
   ]
  },
  {
   "cell_type": "markdown",
   "id": "75775678",
   "metadata": {},
   "source": [
    "Python remplace `a` par sa valeur et donne le résultat.  \n",
    "On peut aussi modifier la valeur de `a` :"
   ]
  },
  {
   "cell_type": "code",
   "execution_count": 3,
   "id": "e2ae5727",
   "metadata": {},
   "outputs": [
    {
     "data": {
      "text/plain": [
       "-4"
      ]
     },
     "execution_count": 3,
     "metadata": {},
     "output_type": "execute_result"
    }
   ],
   "source": [
    "a = -4  # modification de a\n",
    "a"
   ]
  },
  {
   "cell_type": "markdown",
   "id": "a97a1a55",
   "metadata": {},
   "source": [
    "De manière générale, une affectation s'écrit sous la forme suivante :\n",
    "```python\n",
    "a = expression\n",
    "```\n",
    "````{margin}\n",
    "```{danger}\n",
    "Le sens du symbole = en mathématiques est très différent. Ainsi, en mathématiques, $x = x + y\\times4$ est une équation que l'on peut résoudre en $0 = y\\times4$, c'est à dire $y = 0$... rien à voir avec ce que fait Python !\n",
    "```\n",
    "````\n",
    "**Cette affectation a pour effet de calculer la valeur de expression et de mettre cette valeur dans `a`.**\n",
    "\n",
    "Considérons par exemple les lignes suivantes :"
   ]
  },
  {
   "cell_type": "code",
   "execution_count": 4,
   "id": "665fadf8",
   "metadata": {},
   "outputs": [
    {
     "name": "stdout",
     "output_type": "stream",
     "text": [
      "14\n"
     ]
    }
   ],
   "source": [
    "x = 2\n",
    "y = 3\n",
    "x = x + y*4\n",
    "print(x)"
   ]
  },
  {
   "cell_type": "markdown",
   "id": "a7af3563",
   "metadata": {},
   "source": [
    "Voici le fonctionnement détaillé :\n",
    "- `x` est défini en prenant la valeur 2\n",
    "- `y` est défini en prenant la valeur 3\n",
    "- `x + y*4` est calculé, ce qui donne 14\n",
    "- `x` prend la valeur 14 \n",
    "\n",
    "| Python | Description | Exemple |\n",
    "| --- | --- | --- |\n",
    "| `int` | entier | `0`, `42`, `-7` |\n",
    "| `float` | nombre à virgule | `3.14`, `-2.718` |\n",
    "| `bool` | booléen (vrai ou faux) | `True`, `False` |\n",
    "| `str` | chaîne de caractères | `\"blabla\"`, `\"\"`, `\"info\"` |\n",
    "| `list` | liste | `[1, 2, 3]`, `[3.14, \"chaine\", [1, 0]]` |\n",
    "\n",
    "## Types numériques : `int`, `float`\n",
    "\n",
    "* `int` est utilisé pour les entiers (naturels : positif ou négatif).\n",
    "\n",
    "Voici les opérations que l'on peut effectuer sur les `int` et `float` :\n",
    "\n",
    "| Python | Signification | Exemple |\n",
    "| --- | --- | --- |\n",
    "| `+` | addition | `2 + 3` vaut `5` |\n",
    "| `-` | soustraction | `2 - 3` vaut `-1` |\n",
    "| `*` | multiplication | `2*3` vaut `6` |\n",
    "| `**` | puissance | `2**3` vaut `8` |\n",
    "| `/` | division (dans $\\mathbb{Q}$) | `5/2` vaut `2.5` |\n",
    "| `//` | division **entière** (dans $\\mathbb{N}$) | `5//2` vaut `2`  |\n",
    "\n",
    "Une racine peut être calculée avec `**`. Par exemple, $\\sqrt{2} = 2^{\\frac{1}{2}}$ :"
   ]
  },
  {
   "cell_type": "code",
   "execution_count": 5,
   "id": "34fe0721",
   "metadata": {},
   "outputs": [
    {
     "data": {
      "text/plain": [
       "1.4142135623730951"
      ]
     },
     "execution_count": 5,
     "metadata": {},
     "output_type": "execute_result"
    }
   ],
   "source": [
    "2**0.5"
   ]
  },
  {
   "cell_type": "markdown",
   "id": "1c7933da",
   "metadata": {},
   "source": [
    "```{admonition} Exercice\n",
    ":class: tip\n",
    "Utiliser Python pour calculer la valeur (approximative) du nombre d'or $\\phi = \\frac{1 + \\sqrt{5}}{2}$\n",
    "```"
   ]
  },
  {
   "cell_type": "code",
   "execution_count": 6,
   "id": "193fbdb0",
   "metadata": {},
   "outputs": [],
   "source": [
    "# Votre solution"
   ]
  },
  {
   "cell_type": "code",
   "execution_count": 7,
   "id": "a8f71a60",
   "metadata": {
    "tags": [
     "hide-cell"
    ]
   },
   "outputs": [
    {
     "data": {
      "text/plain": [
       "1.618033988749895"
      ]
     },
     "execution_count": 7,
     "metadata": {},
     "output_type": "execute_result"
    }
   ],
   "source": [
    "(1 + 5**0.5)/2"
   ]
  },
  {
   "cell_type": "markdown",
   "id": "568e4e2c",
   "metadata": {},
   "source": [
    "````{admonition} Exercice\n",
    ":class: tip\n",
    "Donner la valeur de l'expression suivante :\n",
    "```python\n",
    "(6 + 4**0.5)/2*2\n",
    "```\n",
    "````"
   ]
  },
  {
   "cell_type": "code",
   "execution_count": 8,
   "id": "7161be02",
   "metadata": {
    "tags": [
     "hide-cell"
    ]
   },
   "outputs": [
    {
     "data": {
      "text/plain": [
       "8.0"
      ]
     },
     "execution_count": 8,
     "metadata": {},
     "output_type": "execute_result"
    }
   ],
   "source": [
    "(6 + 4**0.5)/2*2"
   ]
  },
  {
   "cell_type": "markdown",
   "id": "771088d2",
   "metadata": {},
   "source": [
    "On peut comparer des `int`/`float` de la façon suivante :\n",
    "````{margin}\n",
    "```{danger}\n",
    "Ne pas confondre `a = b`, qui permet de mettre la valeur de `b` dans `a`, et `a == b` qui permet de tester si `a` et `b` ont la même valeur.  \n",
    "```\n",
    "````\n",
    "| Python | Signification | Exemple |\n",
    "| --- | --- | --- |\n",
    "| `==` | égal | `0 == 0` vaut `True`, `3.14 == 3` vaut `False` |\n",
    "| `<` | inférieur strictement | `1 < 2` vaut `True`, `3.14 < 3.14` vaut `False` |\n",
    "| `>` | supérieur strictement | `1 > 2` vaut `False`, `3.14 > 3.14` vaut `False` |\n",
    "| `<=` | inférieur ou égal | `1 <= 2` vaut `True`, `3.14 <= 3.14` vaut `True` |\n",
    "| `>=` | supérieur ou égal | `1 >= 2` vaut `False`, `3.14 >= 3.14` vaut `True` |\n",
    "| `!=` | différent | `1 != 2` vaut `True`, `3.14 != 3.14` vaut `False` |\n",
    "\n",
    "\n",
    "Il est possible d'enchaîner des comparaisons. Par exemple, pour tester si $\\phi$ est compris entre 1 et 2 :"
   ]
  },
  {
   "cell_type": "code",
   "execution_count": 9,
   "id": "1e94d317",
   "metadata": {},
   "outputs": [
    {
     "data": {
      "text/plain": [
       "True"
      ]
     },
     "execution_count": 9,
     "metadata": {},
     "output_type": "execute_result"
    }
   ],
   "source": [
    "1 < (1 + 5**0.5)/2 < 2"
   ]
  },
  {
   "cell_type": "markdown",
   "id": "e8d98bc6",
   "metadata": {},
   "source": [
    "## Booléens\n",
    "\n",
    "\n",
    "| Python | Signification | Exemple |\n",
    "| --- | --- | --- |\n",
    "| `or` | ou | `0 == 0 or 3.14 == 3` vaut `True` |\n",
    "| `and` | et | `0 == 0 and 3.14 == 3` vaut `False` |\n",
    "| `not` | négation | `not 0 < 1` vaut `False` |\n",
    "| `<=` | inférieur ou égal | `1 <= 2` est `True`, `3.14 <= 3.14` vaut `True` |\n",
    "| `>=` | supérieur ou égal | `1 >= 2` est `False`, `3.14 >= 3.14` vaut `True` |\n",
    "| `!=` | différent | `1 != 2` est `True`, `3.14 != 3.14` vaut `False` |\n",
    "\n",
    "````{admonition} Exercice\n",
    ":class: tip\n",
    "Donner la valeur de l'expression suivante :\n",
    "```python\n",
    "not (1 <= 1 and (1 == 2 or 0 != 1))\n",
    "```\n",
    "````"
   ]
  },
  {
   "cell_type": "code",
   "execution_count": 10,
   "id": "f8d87352",
   "metadata": {
    "tags": [
     "hide-cell"
    ]
   },
   "outputs": [
    {
     "data": {
      "text/plain": [
       "False"
      ]
     },
     "execution_count": 10,
     "metadata": {},
     "output_type": "execute_result"
    }
   ],
   "source": [
    "not (1 <= 1 and (1 == 2 or 0 != 1))"
   ]
  }
 ],
 "metadata": {
  "jupytext": {
   "text_representation": {
    "extension": ".md",
    "format_name": "myst",
    "format_version": 0.13,
    "jupytext_version": "1.10.0"
   }
  },
  "kernelspec": {
   "display_name": "Python 3.8.5 64-bit",
   "language": "python",
   "name": "python3"
  },
  "language_info": {
   "codemirror_mode": {
    "name": "ipython",
    "version": 3
   },
   "file_extension": ".py",
   "mimetype": "text/x-python",
   "name": "python",
   "nbconvert_exporter": "python",
   "pygments_lexer": "ipython3",
   "version": "3.8.10"
  },
  "source_map": [
   12,
   25,
   27,
   31,
   33,
   38,
   41,
   55,
   60,
   91,
   93,
   99,
   102,
   105,
   115,
   118,
   137,
   139,
   160
  ]
 },
 "nbformat": 4,
 "nbformat_minor": 5
}