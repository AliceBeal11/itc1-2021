{
 "cells": [
  {
   "cell_type": "markdown",
   "metadata": {},
   "source": [
    "**Pour répondre à un exercice, cliquer dessus (puis appuyer éventuellement sur échap pour sortir du mode édition) puis appuyer sur la touche B pour créer une case de code que vous pouvez remplir.**\r\n",
    "\r\n",
    "**Pour exécuter votre : Ctrl + Entrée ou Shift + Entrée**\r\n",
    "\r\n",
    "**Toutes les fonctions doivent être testées par des exemples**"
   ]
  },
  {
   "cell_type": "markdown",
   "metadata": {},
   "source": [
    "# Recherche séquentielle"
   ]
  },
  {
   "cell_type": "markdown",
   "metadata": {},
   "source": [
    "1. Ecrire une fonction `appartient` telle que `appartient(e, L)` renvoie `True` si `e` appartient à `L`, `False` sinon."
   ]
  },
  {
   "cell_type": "markdown",
   "metadata": {},
   "source": [
    "2. Ecrire une `maximum` renvoyant le maximum d'une liste. "
   ]
  },
  {
   "cell_type": "markdown",
   "metadata": {},
   "source": [
    "3. Ecrire une fonction `maximum2` renvoyant le deuxième plus grand élément d'une liste. Par exemple `maximum2([2, 1, 3, 0, 5])` doit renvoyer 3 et `maximum2([2, 1, 5, 0, 5])` doit renvoyer 5."
   ]
  },
  {
   "cell_type": "markdown",
   "metadata": {},
   "source": [
    "# Dictionnaire\r\n",
    "\r\n",
    "Un dictionnaire permet de stocker des associations clés-valeurs : à chaque clé, le dictionnaire donne une valeur. C'est similaire à une liste qui possède une valeur à chaque indice (= clé) sauf que les clés d'un dictionnaire ne sont pas forcément des entiers consécutifs."
   ]
  },
  {
   "cell_type": "markdown",
   "metadata": {},
   "source": [
    "Exemple de définition d'un dictionnaire qui à 2 associe 4 et à 3 associe 6 :"
   ]
  },
  {
   "cell_type": "code",
   "execution_count": 1,
   "metadata": {
    "execution": {
     "iopub.execute_input": "2021-09-12T11:02:15.651156Z",
     "iopub.status.busy": "2021-09-12T11:02:15.650567Z",
     "iopub.status.idle": "2021-09-12T11:02:15.659336Z",
     "shell.execute_reply": "2021-09-12T11:02:15.658821Z"
    }
   },
   "outputs": [],
   "source": [
    "dictionnaire = {2: 4, 3: 6}"
   ]
  },
  {
   "cell_type": "markdown",
   "metadata": {},
   "source": [
    "Pour récupérer la valeur associée à 3 :"
   ]
  },
  {
   "cell_type": "code",
   "execution_count": 2,
   "metadata": {
    "execution": {
     "iopub.execute_input": "2021-09-12T11:02:15.661842Z",
     "iopub.status.busy": "2021-09-12T11:02:15.661337Z",
     "iopub.status.idle": "2021-09-12T11:02:15.671904Z",
     "shell.execute_reply": "2021-09-12T11:02:15.672329Z"
    }
   },
   "outputs": [
    {
     "data": {
      "text/plain": [
       "6"
      ]
     },
     "execution_count": 2,
     "metadata": {},
     "output_type": "execute_result"
    }
   ],
   "source": [
    "dictionnaire[3]  # comme pour une liste"
   ]
  },
  {
   "cell_type": "markdown",
   "metadata": {},
   "source": [
    "Pour ajouter une association de 4 vers 8 :"
   ]
  },
  {
   "cell_type": "code",
   "execution_count": 3,
   "metadata": {
    "execution": {
     "iopub.execute_input": "2021-09-12T11:02:15.676248Z",
     "iopub.status.busy": "2021-09-12T11:02:15.675798Z",
     "iopub.status.idle": "2021-09-12T11:02:15.679223Z",
     "shell.execute_reply": "2021-09-12T11:02:15.678824Z"
    }
   },
   "outputs": [],
   "source": [
    "dictionnaire[4] = 8"
   ]
  },
  {
   "cell_type": "markdown",
   "metadata": {},
   "source": [
    "Pour obtenir le nombre de clés d'un dictionnaire :"
   ]
  },
  {
   "cell_type": "code",
   "execution_count": 4,
   "metadata": {
    "execution": {
     "iopub.execute_input": "2021-09-12T11:02:15.683335Z",
     "iopub.status.busy": "2021-09-12T11:02:15.682846Z",
     "iopub.status.idle": "2021-09-12T11:02:15.688875Z",
     "shell.execute_reply": "2021-09-12T11:02:15.689285Z"
    }
   },
   "outputs": [
    {
     "data": {
      "text/plain": [
       "3"
      ]
     },
     "execution_count": 4,
     "metadata": {},
     "output_type": "execute_result"
    }
   ],
   "source": [
    "len(dictionnaire)"
   ]
  },
  {
   "cell_type": "markdown",
   "metadata": {},
   "source": [
    "Pour obtenir la liste des clés d'un dictionnaire :"
   ]
  },
  {
   "cell_type": "code",
   "execution_count": 5,
   "metadata": {
    "execution": {
     "iopub.execute_input": "2021-09-12T11:02:15.693365Z",
     "iopub.status.busy": "2021-09-12T11:02:15.692896Z",
     "iopub.status.idle": "2021-09-12T11:02:15.697383Z",
     "shell.execute_reply": "2021-09-12T11:02:15.697012Z"
    }
   },
   "outputs": [
    {
     "data": {
      "text/plain": [
       "dict_keys([2, 3, 4])"
      ]
     },
     "execution_count": 5,
     "metadata": {},
     "output_type": "execute_result"
    }
   ],
   "source": [
    "dictionnaire.keys()"
   ]
  },
  {
   "cell_type": "markdown",
   "metadata": {},
   "source": [
    "On peut parcourir les clés avec une boucles for :"
   ]
  },
  {
   "cell_type": "code",
   "execution_count": 6,
   "metadata": {
    "execution": {
     "iopub.execute_input": "2021-09-12T11:02:15.701968Z",
     "iopub.status.busy": "2021-09-12T11:02:15.701069Z",
     "iopub.status.idle": "2021-09-12T11:02:15.704630Z",
     "shell.execute_reply": "2021-09-12T11:02:15.704103Z"
    }
   },
   "outputs": [
    {
     "name": "stdout",
     "output_type": "stream",
     "text": [
      "la valeur associée à la clé 2 est la valeur 4\n",
      "la valeur associée à la clé 3 est la valeur 6\n",
      "la valeur associée à la clé 4 est la valeur 8\n"
     ]
    }
   ],
   "source": [
    "for cle in dictionnaire.keys():  # .keys() est optionnel\r\n",
    "    print(f\"la valeur associée à la clé {cle} est la valeur {dictionnaire[cle]}\")"
   ]
  },
  {
   "cell_type": "markdown",
   "metadata": {},
   "source": [
    "On peut aussi créer un dictionnaire vide :"
   ]
  },
  {
   "cell_type": "code",
   "execution_count": 7,
   "metadata": {
    "execution": {
     "iopub.execute_input": "2021-09-12T11:02:15.708295Z",
     "iopub.status.busy": "2021-09-12T11:02:15.707572Z",
     "iopub.status.idle": "2021-09-12T11:02:15.711504Z",
     "shell.execute_reply": "2021-09-12T11:02:15.711959Z"
    }
   },
   "outputs": [],
   "source": [
    "d = {}  # dictionnaire vide\r\n",
    "d = dict()  # autre façon de définir un dictionnaire vide\r\n",
    "# on peut ensuite ajouter des éléments avec d"
   ]
  },
  {
   "cell_type": "markdown",
   "metadata": {},
   "source": [
    "1. Définir un dictionnaire associant 42 à 5 et 23 à 13. Vérifier."
   ]
  },
  {
   "cell_type": "markdown",
   "metadata": {},
   "source": [
    "2. Définir un dictionnaire `d` associant aux chaînes de caractères \"hello\" et \"python\" leurs nombres de caractères (par exemple, il faut que `d[\"hello\"]`soit égal à 5 car `\"hello\"` contient 5 caractères)."
   ]
  },
  {
   "cell_type": "markdown",
   "metadata": {},
   "source": [
    "# Comptage avec un dictionnaire\r\n",
    "\r\n",
    "1. Ecrire une fonction `compter` telle que `compter(L)` renvoie un dictionnaire `d` dont les clés sont les éléments de `L` et les valeurs sont les nombres d'apparitions de chaque éléments. Ainsi, `d[e]` est le nombre de fois que `L[e]` apparaît dans `L`.  \r\n",
    "Par exemple, `compter([1, 7, 1, 1, 5, 7])` doit renvoyer `d` tel que `d[1] = 3` (1 apparaît 3 fois), `d[5] = 1` (5 apparaît 1 fois), `d[7] = 2` (7 apparaît 2 fois). "
   ]
  },
  {
   "cell_type": "markdown",
   "metadata": {},
   "source": [
    "2. En déduire une fonction `majoritaire` telle que `majoritaire(L)` renvoie l'élément qui apparaît le plus souvent dans `L`.  \r\n",
    "Par exemple, `majoritaire([1, 7, 1, 1, 5, 7])` doit renvoyer 1 (il apparaît plus de fois que n'importe quel autre élément)."
   ]
  },
  {
   "cell_type": "markdown",
   "metadata": {},
   "source": [
    "# Suite de Syracuse\r\n",
    "\r\n",
    "La suite de Syracuse d'un entier $a$ est définie par :  \r\n",
    "$$u_0 = a$$\r\n",
    "$$u_{n+1} =\r\n",
    "\\begin{cases} \r\n",
    "     \\frac{u_n}{2}, \\text{si } n \\text{ est pair}\\\\\r\n",
    "    3u_n + 1, \\text{sinon}\\\\\r\n",
    "\\end{cases}$$\r\n"
   ]
  },
  {
   "cell_type": "markdown",
   "metadata": {},
   "source": [
    "1. Ecrire une fonction `syracuse` telle que `syracuse(a, n)` renvoie $u_n$."
   ]
  },
  {
   "cell_type": "markdown",
   "metadata": {},
   "source": [
    "Le temps de vol de $(u_n)$ est le plus petit entier $t$ tel que $u_t = 1$.  \r\n",
    "2. Ecrire une fonction `temps_vol` telle que `temps_vol(a)` renvoie $t$. "
   ]
  }
 ],
 "metadata": {
  "interpreter": {
   "hash": "638d2bb0c3d5a654c8dabbf1e544957f030902e91031027a7993b713e9c17aba"
  },
  "kernelspec": {
   "display_name": "Python 3.9.7 64-bit",
   "name": "python3"
  },
  "language_info": {
   "codemirror_mode": {
    "name": "ipython",
    "version": 3
   },
   "file_extension": ".py",
   "mimetype": "text/x-python",
   "name": "python",
   "nbconvert_exporter": "python",
   "pygments_lexer": "ipython3",
   "version": "3.9.6"
  }
 },
 "nbformat": 4,
 "nbformat_minor": 2
}
