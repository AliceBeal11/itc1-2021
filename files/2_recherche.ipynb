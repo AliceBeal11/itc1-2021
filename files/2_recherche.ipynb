{
 "cells": [
  {
   "cell_type": "markdown",
   "source": [
    "**Toutes les fonctions doivent être testées par des exemples**"
   ],
   "metadata": {}
  },
  {
   "cell_type": "markdown",
   "source": [
    "# Recherche séquentielle"
   ],
   "metadata": {}
  },
  {
   "cell_type": "markdown",
   "source": [
    "1. Ecrire une fonction `appartient` telle que `appartient(e, L)` renvoie `True` si `e` appartient à `L`, `False` sinon."
   ],
   "metadata": {}
  },
  {
   "cell_type": "markdown",
   "source": [
    "2. Ecrire une `maximum` renvoyant le maximum d'une liste. "
   ],
   "metadata": {}
  },
  {
   "cell_type": "markdown",
   "source": [
    "3. Ecrire une fonction `maximum2` renvoyant le deuxième plus grand élément d'une liste. Par exemple `maximum2([2, 1, 3, 0, 5])` doit renvoyer 3 et `maximum2([2, 1, 5, 0, 5])` doit renvoyer 5."
   ],
   "metadata": {}
  },
  {
   "cell_type": "markdown",
   "source": [
    "# Dictionnaire\r\n",
    "\r\n",
    "Un dictionnaire permet de stocker des associations clés-valeurs : à chaque clé, le dictionnaire donne une valeur. C'est similaire à une liste qui possède une valeur à chaque indice (= clé) sauf que les clés d'un dictionnaire ne sont pas forcément des entiers consécutifs."
   ],
   "metadata": {}
  },
  {
   "cell_type": "markdown",
   "source": [
    "Exemple de définition d'un dictionnaire qui à 2 associe 4 et à 3 associe 6 :"
   ],
   "metadata": {}
  },
  {
   "cell_type": "code",
   "execution_count": 1,
   "source": [
    "dictionnaire = {2: 4, 3: 6}"
   ],
   "outputs": [],
   "metadata": {}
  },
  {
   "cell_type": "markdown",
   "source": [
    "Pour récupérer la valeur associée à 3 :"
   ],
   "metadata": {}
  },
  {
   "cell_type": "code",
   "execution_count": 3,
   "source": [
    "dictionnaire[3]  # comme pour une liste"
   ],
   "outputs": [
    {
     "output_type": "execute_result",
     "data": {
      "text/plain": [
       "6"
      ]
     },
     "metadata": {},
     "execution_count": 3
    }
   ],
   "metadata": {}
  },
  {
   "cell_type": "markdown",
   "source": [
    "Pour ajouter une association de 4 vers 8 :"
   ],
   "metadata": {}
  },
  {
   "cell_type": "code",
   "execution_count": 6,
   "source": [
    "dictionnaire[4] = 8"
   ],
   "outputs": [],
   "metadata": {}
  },
  {
   "cell_type": "markdown",
   "source": [
    "Pour obtenir le nombre de clés d'un dictionnaire :"
   ],
   "metadata": {}
  },
  {
   "cell_type": "code",
   "execution_count": 7,
   "source": [
    "len(dictionnaire)"
   ],
   "outputs": [
    {
     "output_type": "execute_result",
     "data": {
      "text/plain": [
       "3"
      ]
     },
     "metadata": {},
     "execution_count": 7
    }
   ],
   "metadata": {}
  },
  {
   "cell_type": "markdown",
   "source": [
    "Pour obtenir la liste des clés d'un dictionnaire :"
   ],
   "metadata": {}
  },
  {
   "cell_type": "code",
   "execution_count": 9,
   "source": [
    "dictionnaire.keys()"
   ],
   "outputs": [
    {
     "output_type": "execute_result",
     "data": {
      "text/plain": [
       "dict_keys([2, 3, 4])"
      ]
     },
     "metadata": {},
     "execution_count": 9
    }
   ],
   "metadata": {}
  },
  {
   "cell_type": "markdown",
   "source": [
    "On peut parcourir les clés avec une boucles for :"
   ],
   "metadata": {}
  },
  {
   "cell_type": "code",
   "execution_count": 10,
   "source": [
    "for cle in dictionnaire.keys():  # .keys() est optionnel\n",
    "    print(f\"la valeur associée à la clé {cle} est la valeur {dictionnaire[cle]}\")"
   ],
   "outputs": [
    {
     "output_type": "stream",
     "name": "stdout",
     "text": [
      "la valeur associée à la clé 2 est la valeur 4\n",
      "la valeur associée à la clé 3 est la valeur 6\n",
      "la valeur associée à la clé 4 est la valeur 8\n"
     ]
    }
   ],
   "metadata": {}
  },
  {
   "cell_type": "markdown",
   "source": [
    "On peut aussi créer un dictionnaire vide :"
   ],
   "metadata": {}
  },
  {
   "cell_type": "code",
   "execution_count": null,
   "source": [
    "d = {}  # dictionnaire vide\n",
    "d = dict()  # autre façon de définir un dictionnaire vide\n",
    "# on peut ensuite ajouter des éléments avec d"
   ],
   "outputs": [],
   "metadata": {}
  },
  {
   "cell_type": "markdown",
   "source": [
    "1. Définir un dictionnaire associant 42 à 5 et 23 à 13. Vérifier."
   ],
   "metadata": {}
  },
  {
   "cell_type": "markdown",
   "source": [
    "2. Définir un dictionnaire `d` associant aux chaînes de caractères \"hello\" et \"python\" leurs nombres de caractères (par exemple, il faut que `d[\"hello\"]`soit égal à 5 car `\"hello\"` contient 5 caractères)."
   ],
   "metadata": {}
  },
  {
   "cell_type": "markdown",
   "source": [
    "# Comptage avec un dictionnaire\r\n",
    "\r\n",
    "1. Ecrire une fonction `compter` telle que `compter(L)` renvoie un dictionnaire `d` dont les clés sont les éléments de `L` et les valeurs sont les nombres d'apparitions de chaque éléments. Ainsi, `d[e]` est le nombre de fois que `L[e]` apparaît dans `L`.  \r\n",
    "Par exemple, `compter([1, 7, 1, 1, 5, 7])` doit renvoyer `d` tel que `d[1] = 3` (1 apparaît 3 fois), `d[5] = 1` (5 apparaît 1 fois), `d[7] = 2` (7 apparaît 2 fois). "
   ],
   "metadata": {}
  },
  {
   "cell_type": "markdown",
   "source": [
    "2. En déduire une fonction `majoritaire` telle que `majoritaire(L)` renvoie l'élément qui apparaît le plus souvent dans `L`.  \r\n",
    "Par exemple, `majoritaire([1, 7, 1, 1, 5, 7])` doit renvoyer 1 (il apparaît plus de fois que n'importe quel autre élément)."
   ],
   "metadata": {}
  },
  {
   "cell_type": "markdown",
   "source": [
    "# Suite de Syracuse\n",
    "\n",
    "La suite de Syracuse d'un entier $a$ est définie par :  \n",
    "$$u_0 = a$$\n",
    "$$u_{n+1} =\n",
    "\\begin{cases} \n",
    "     \\frac{u_n}{2}, \\text{si } n \\text{ est pair}\\\\\n",
    "    3u_n + 1, \\text{sinon}\\\\\n",
    "\\end{cases}$$"
   ],
   "metadata": {}
  },
  {
   "cell_type": "markdown",
   "source": [
    "1. Ecrire une fonction `syracuse` telle que `syracuse(a, n)` renvoie $u_n$."
   ],
   "metadata": {}
  },
  {
   "cell_type": "markdown",
   "source": [
    "Le temps de vol de $(u_n)$ est le plus petit entier $t$ tel que $u_t = 1$.  \n",
    "\n",
    "2. Ecrire une fonction `temps_vol` telle que `temps_vol(a)` renvoie $t$. "
   ],
   "metadata": {}
  }
 ],
 "metadata": {
  "title": "Recherche séquentielle et dictionnaire",
  "orig_nbformat": 4,
  "language_info": {
   "name": "python",
   "version": "3.9.7",
   "mimetype": "text/x-python",
   "codemirror_mode": {
    "name": "ipython",
    "version": 3
   },
   "pygments_lexer": "ipython3",
   "nbconvert_exporter": "python",
   "file_extension": ".py"
  },
  "kernelspec": {
   "name": "python3",
   "display_name": "Python 3.9.7 64-bit"
  },
  "interpreter": {
   "hash": "638d2bb0c3d5a654c8dabbf1e544957f030902e91031027a7993b713e9c17aba"
  }
 },
 "nbformat": 4,
 "nbformat_minor": 2
}