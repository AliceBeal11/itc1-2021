{
 "cells": [
  {
   "cell_type": "markdown",
   "id": "3ca65991",
   "metadata": {},
   "source": [
    "# Boucle for"
   ]
  },
  {
   "cell_type": "markdown",
   "id": "9cdeba41",
   "metadata": {},
   "source": [
    "## Range"
   ]
  },
  {
   "cell_type": "markdown",
   "id": "122242ea",
   "metadata": {},
   "source": [
    "Une boucle `for` permet de répéter des instructions un certain nombre de fois :"
   ]
  },
  {
   "cell_type": "code",
   "execution_count": 1,
   "id": "99c4a93a",
   "metadata": {
    "execution": {
     "iopub.execute_input": "2021-08-23T16:08:11.257208Z",
     "iopub.status.busy": "2021-08-23T16:08:11.256619Z",
     "iopub.status.idle": "2021-08-23T16:08:11.259423Z",
     "shell.execute_reply": "2021-08-23T16:08:11.259060Z"
    }
   },
   "outputs": [
    {
     "name": "stdout",
     "output_type": "stream",
     "text": [
      "0\n",
      "1\n",
      "2\n",
      "3\n",
      "4\n"
     ]
    }
   ],
   "source": [
    "for i in range(5):\n",
    "    print(i)  # affiche i pour i variant de 0 à 4"
   ]
  },
  {
   "cell_type": "markdown",
   "id": "859d0911",
   "metadata": {},
   "source": [
    "**Remarque** : on utilise souvent `i` comme nom de variable, mais on aurait pu l'appeler autrement. Par exemple le code suivant fait exactement la même chose :\n",
    "```python\n",
    "for variable in range(5):\n",
    "    print(variable)\n",
    "```    "
   ]
  },
  {
   "cell_type": "markdown",
   "id": "7b7daddb",
   "metadata": {},
   "source": [
    "**Attention** : une boucle `for i in range(n)` commence à 0 et finit à $n - 1$ (l'indice de fin est toujours exclu en Python). "
   ]
  },
  {
   "cell_type": "markdown",
   "id": "69325405",
   "metadata": {},
   "source": [
    "**Exercice** : Combien de fois s'exécute une boucle `for i in range(n)`?"
   ]
  },
  {
   "cell_type": "markdown",
   "id": "30e5c9e5",
   "metadata": {},
   "source": [
    "**Réponse** : $n$ fois (c'est aussi le nombre d'entiers dans $\\{0, ..., n - 1\\}$."
   ]
  },
  {
   "cell_type": "markdown",
   "id": "22fa0992",
   "metadata": {},
   "source": [
    "L'exemple suivant permet de calculer la somme des 100 premiers entiers ($0 + 1 + 2 + ... + 99$) :"
   ]
  },
  {
   "cell_type": "code",
   "execution_count": 2,
   "id": "03eae1f5",
   "metadata": {
    "execution": {
     "iopub.execute_input": "2021-08-23T16:08:11.266616Z",
     "iopub.status.busy": "2021-08-23T16:08:11.266181Z",
     "iopub.status.idle": "2021-08-23T16:08:11.268273Z",
     "shell.execute_reply": "2021-08-23T16:08:11.267980Z"
    }
   },
   "outputs": [
    {
     "data": {
      "text/plain": [
       "4950"
      ]
     },
     "execution_count": 2,
     "metadata": {},
     "output_type": "execute_result"
    }
   ],
   "source": [
    "somme = 0\n",
    "for k in range(100):\n",
    "    somme += k  # même chose que somme = somme + k\n",
    "somme"
   ]
  },
  {
   "cell_type": "markdown",
   "id": "a6f12831",
   "metadata": {},
   "source": [
    "**Exercice** : Quelle formule connaissez-vous pour la somme précédente? L'utiliser pour vérifier votre résultat."
   ]
  },
  {
   "cell_type": "markdown",
   "id": "fb38f521",
   "metadata": {},
   "source": [
    "Une variante du `range` permet de parcourir les entiers de $a$ à $b - 1$ : `for i in range(a, b)`."
   ]
  },
  {
   "cell_type": "code",
   "execution_count": 3,
   "id": "5a0d10c4",
   "metadata": {
    "execution": {
     "iopub.execute_input": "2021-08-23T16:08:11.270910Z",
     "iopub.status.busy": "2021-08-23T16:08:11.270489Z",
     "iopub.status.idle": "2021-08-23T16:08:11.272728Z",
     "shell.execute_reply": "2021-08-23T16:08:11.272372Z"
    }
   },
   "outputs": [
    {
     "name": "stdout",
     "output_type": "stream",
     "text": [
      "3\n",
      "4\n",
      "5\n"
     ]
    }
   ],
   "source": [
    "for i in range(3, 6):\n",
    "    print(i)"
   ]
  },
  {
   "cell_type": "markdown",
   "id": "1b94fd56",
   "metadata": {},
   "source": [
    "**Exercice** : Calculer $\\sum_{k = 5}^{20} \\sqrt{k}$  (= $\\sqrt{5} + \\sqrt{6} + ... + \\sqrt{20}$)."
   ]
  },
  {
   "cell_type": "markdown",
   "id": "8e620d5d",
   "metadata": {},
   "source": [
    "**Exercice** : Écrire une fonction `fact` telle que `fact(n)` renvoie $n!$ ($n$ factorielle), c'est à dire $n\\times(n-1)\\times ... \\times 2 \\times1$."
   ]
  },
  {
   "cell_type": "markdown",
   "id": "1cbbe7d8",
   "metadata": {},
   "source": [
    "Une boucle for est utile pour calculer les termes d'une suite récurrente $u_n$. Pour cela, on définie une variable `un` valant initialement $u_0$ que l'on remplace par la valeur suivante de la suite dans uen boucle `for`. Ainsi `un` prend la valeur de $u_0$, puis  $u_1$, $u_2$..."
   ]
  },
  {
   "cell_type": "markdown",
   "id": "875bb45a",
   "metadata": {},
   "source": [
    "**Exercice** : Calculer $u_{10}$, où $u_n$ est définie par $u_0 = 42$ et $u_{n+1} = \\sqrt{u_n} + 3u_n$."
   ]
  },
  {
   "cell_type": "code",
   "execution_count": 4,
   "id": "28359406",
   "metadata": {
    "execution": {
     "iopub.execute_input": "2021-08-23T16:08:11.275887Z",
     "iopub.status.busy": "2021-08-23T16:08:11.275388Z",
     "iopub.status.idle": "2021-08-23T16:08:11.277796Z",
     "shell.execute_reply": "2021-08-23T16:08:11.277453Z"
    }
   },
   "outputs": [
    {
     "data": {
      "text/plain": [
       "2787204.895558157"
      ]
     },
     "execution_count": 4,
     "metadata": {},
     "output_type": "execute_result"
    }
   ],
   "source": [
    "un = 42\n",
    "for _ in range(10):\n",
    "    un = un**.5 + 3*un\n",
    "un"
   ]
  },
  {
   "cell_type": "markdown",
   "id": "6ff5faef",
   "metadata": {},
   "source": [
    "## for et liste\n",
    "\n",
    "Pour énumérer les éléments d'une listes, on peut parcourir ses indices :"
   ]
  },
  {
   "cell_type": "code",
   "execution_count": 5,
   "id": "1f52ac1e",
   "metadata": {
    "execution": {
     "iopub.execute_input": "2021-08-23T16:08:11.280526Z",
     "iopub.status.busy": "2021-08-23T16:08:11.280077Z",
     "iopub.status.idle": "2021-08-23T16:08:11.281628Z",
     "shell.execute_reply": "2021-08-23T16:08:11.281876Z"
    }
   },
   "outputs": [
    {
     "name": "stdout",
     "output_type": "stream",
     "text": [
      "2\n",
      "3\n",
      "5\n",
      "7\n",
      "11\n"
     ]
    }
   ],
   "source": [
    "L = [2, 3, 5, 7, 11]\n",
    "for i in range(len(L)):  # les indices de L vont de 0 à len(L) - 1\n",
    "    print(L[i])"
   ]
  },
  {
   "cell_type": "markdown",
   "id": "95ddcbc4",
   "metadata": {},
   "source": [
    "Lorsqu'on n'a pas besoin des indices, on peut utiliser `for e in L` (attention toutefois à ne pas confondre indice et élément):"
   ]
  },
  {
   "cell_type": "code",
   "execution_count": 6,
   "id": "a9f08a12",
   "metadata": {
    "execution": {
     "iopub.execute_input": "2021-08-23T16:08:11.284292Z",
     "iopub.status.busy": "2021-08-23T16:08:11.283836Z",
     "iopub.status.idle": "2021-08-23T16:08:11.286011Z",
     "shell.execute_reply": "2021-08-23T16:08:11.285683Z"
    }
   },
   "outputs": [
    {
     "name": "stdout",
     "output_type": "stream",
     "text": [
      "2\n",
      "3\n",
      "5\n",
      "7\n",
      "11\n"
     ]
    }
   ],
   "source": [
    "for e in L:\n",
    "    print(e)"
   ]
  },
  {
   "cell_type": "markdown",
   "id": "5f657637",
   "metadata": {},
   "source": [
    "**Exercice** : Écrire une fonction pour calculer la somme des éléments d'une liste."
   ]
  },
  {
   "cell_type": "code",
   "execution_count": 7,
   "id": "25228804",
   "metadata": {
    "execution": {
     "iopub.execute_input": "2021-08-23T16:08:11.288284Z",
     "iopub.status.busy": "2021-08-23T16:08:11.287961Z",
     "iopub.status.idle": "2021-08-23T16:08:11.289651Z",
     "shell.execute_reply": "2021-08-23T16:08:11.289326Z"
    }
   },
   "outputs": [],
   "source": [
    "def somme(L):\n",
    "    res = 0\n",
    "    for e in L:\n",
    "        res += e\n",
    "    return res"
   ]
  },
  {
   "cell_type": "markdown",
   "id": "5682e4ea",
   "metadata": {},
   "source": [
    "**Exercice** : Écrire une fonction `appartient` telle que `appartient(x, L)` renvoie `True` si `x` appartient à la liste `L`, `False` sinon."
   ]
  },
  {
   "cell_type": "code",
   "execution_count": 8,
   "id": "32f2ebdd",
   "metadata": {
    "execution": {
     "iopub.execute_input": "2021-08-23T16:08:11.291915Z",
     "iopub.status.busy": "2021-08-23T16:08:11.291592Z",
     "iopub.status.idle": "2021-08-23T16:08:11.293318Z",
     "shell.execute_reply": "2021-08-23T16:08:11.292989Z"
    }
   },
   "outputs": [],
   "source": [
    "def appartient(x, L):\n",
    "    for e in L:\n",
    "        if x == e:\n",
    "            return True\n",
    "    return False"
   ]
  },
  {
   "cell_type": "markdown",
   "id": "6c7120f7",
   "metadata": {},
   "source": [
    "**Exercice** : \n",
    "1. Écrire une fonction pour déterminer si une liste est triée par ordre croissant.\n",
    "2. En déduire une fonction pour savoir si la liste est triée par ordre décroissant. On pourra utiliser `not` pour la négation."
   ]
  },
  {
   "cell_type": "code",
   "execution_count": 9,
   "id": "14e69522",
   "metadata": {
    "execution": {
     "iopub.execute_input": "2021-08-23T16:08:11.295896Z",
     "iopub.status.busy": "2021-08-23T16:08:11.295563Z",
     "iopub.status.idle": "2021-08-23T16:08:11.297030Z",
     "shell.execute_reply": "2021-08-23T16:08:11.297295Z"
    }
   },
   "outputs": [],
   "source": [
    "# 1.\n",
    "def croissant(L):\n",
    "    for i in range(len(L) - 1): # ici on est obligé de parcourir les indices pour comparer 2 éléments consécutifs\n",
    "        if L[i] > L[i+1]:\n",
    "            return False\n",
    "    return True\n",
    "\n",
    "# 2.\n",
    "def decroissant(L):\n",
    "    return not croissant(L)"
   ]
  },
  {
   "cell_type": "markdown",
   "id": "fbcf3c9d",
   "metadata": {},
   "source": [
    "Par défaut, une boucle `for i in range(n)` fait augmenter `i` de un à chaque passage. Il est possible de changer ce pas :"
   ]
  },
  {
   "cell_type": "code",
   "execution_count": 10,
   "id": "70b6a76e",
   "metadata": {
    "execution": {
     "iopub.execute_input": "2021-08-23T16:08:11.299810Z",
     "iopub.status.busy": "2021-08-23T16:08:11.299352Z",
     "iopub.status.idle": "2021-08-23T16:08:11.301539Z",
     "shell.execute_reply": "2021-08-23T16:08:11.301261Z"
    }
   },
   "outputs": [
    {
     "name": "stdout",
     "output_type": "stream",
     "text": [
      "0\n",
      "2\n",
      "4\n",
      "6\n",
      "8\n"
     ]
    }
   ],
   "source": [
    "for i in range(0, 10, 2):  # entier de 0 à 9 en allant de 2 en 2\n",
    "    print(i)"
   ]
  },
  {
   "cell_type": "markdown",
   "id": "17647b98",
   "metadata": {},
   "source": [
    "# Boucle while"
   ]
  },
  {
   "cell_type": "markdown",
   "id": "6c7de23b",
   "metadata": {},
   "source": [
    "La boucle while répète des instructions tant qu'une condition est vraie :"
   ]
  },
  {
   "cell_type": "code",
   "execution_count": 11,
   "id": "f85377a3",
   "metadata": {
    "execution": {
     "iopub.execute_input": "2021-08-23T16:08:11.304020Z",
     "iopub.status.busy": "2021-08-23T16:08:11.303595Z",
     "iopub.status.idle": "2021-08-23T16:08:11.305728Z",
     "shell.execute_reply": "2021-08-23T16:08:11.305399Z"
    }
   },
   "outputs": [
    {
     "name": "stdout",
     "output_type": "stream",
     "text": [
      "3\n",
      "2\n",
      "1\n",
      "0\n"
     ]
    }
   ],
   "source": [
    "i = 3\n",
    "while i >= 0:\n",
    "    print(i)\n",
    "    i -= 1"
   ]
  },
  {
   "cell_type": "markdown",
   "id": "6c788849",
   "metadata": {},
   "source": [
    "**Attention** : si la condition est toujours vraie, il y a \"boucle infinie\" et il faut l'arrêter avec le bouton stop : \n",
    "<center><img src=img/stop.png width=300></center>"
   ]
  },
  {
   "cell_type": "markdown",
   "id": "8e85fe5c",
   "metadata": {},
   "source": []
  }
 ],
 "metadata": {
  "interpreter": {
   "hash": "80d9894a3b5815f7372610aa6642550cfc561afb6a89a6bb320ec4bc44e3d10c"
  },
  "kernelspec": {
   "display_name": "Python 3.9.1 64-bit ('base': conda)",
   "name": "python3"
  },
  "language_info": {
   "codemirror_mode": {
    "name": "ipython",
    "version": 3
   },
   "file_extension": ".py",
   "mimetype": "text/x-python",
   "name": "python",
   "nbconvert_exporter": "python",
   "pygments_lexer": "ipython3",
   "version": "3.9.6"
  }
 },
 "nbformat": 4,
 "nbformat_minor": 5
}
