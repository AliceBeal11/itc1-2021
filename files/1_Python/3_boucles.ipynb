{
 "cells": [
  {
   "cell_type": "markdown",
   "id": "34a14d94-bb75-4bb2-947e-59339bc7815c",
   "metadata": {},
   "source": [
    "# Boucle for"
   ]
  },
  {
   "cell_type": "markdown",
   "id": "150f8c3b-80f7-4684-a703-1e14df1668d1",
   "metadata": {},
   "source": [
    "## Range"
   ]
  },
  {
   "cell_type": "markdown",
   "id": "f72b9f40-c6c1-4cc3-a793-9033d3801480",
   "metadata": {},
   "source": [
    "Une boucle `for` permet de répéter des instructions un certain nombre de fois :"
   ]
  },
  {
   "cell_type": "code",
   "execution_count": 1,
   "id": "30322ce5-a90e-4dfe-a4cd-3c3202d145c6",
   "metadata": {
    "execution": {
     "iopub.execute_input": "2021-08-22T20:27:19.681360Z",
     "iopub.status.busy": "2021-08-22T20:27:19.680798Z",
     "iopub.status.idle": "2021-08-22T20:27:19.684014Z",
     "shell.execute_reply": "2021-08-22T20:27:19.684360Z"
    }
   },
   "outputs": [
    {
     "name": "stdout",
     "output_type": "stream",
     "text": [
      "0\n",
      "1\n",
      "2\n",
      "3\n",
      "4\n"
     ]
    }
   ],
   "source": [
    "for i in range(5):\n",
    "    print(i)  # affiche i pour i variant de 0 à 4"
   ]
  },
  {
   "cell_type": "markdown",
   "id": "5e3088ab-a21a-4e49-8ac3-22a7dbbece8f",
   "metadata": {},
   "source": [
    "**Remarque** : on utilise souvent `i` comme nom de variable, mais on aurait pu l'appeler autrement. Par exemple le code suivant fait exactement la même chose :\n",
    "```python\n",
    "for variable in range(5):\n",
    "    print(variable)\n",
    "```    "
   ]
  },
  {
   "cell_type": "markdown",
   "id": "4176dbeb-a728-480c-856a-53e2e202f894",
   "metadata": {},
   "source": [
    "**Attention** : une boucle `for i in range(n)` commence à 0 et finit à $n - 1$ (l'indice de fin est toujours exclu en Python). "
   ]
  },
  {
   "cell_type": "markdown",
   "id": "3ea3ede7-7f96-4135-9b1b-faacd340174b",
   "metadata": {},
   "source": [
    "**Exercice** : Combien de fois s'exécute une boucle `for i in range(n)`?"
   ]
  },
  {
   "cell_type": "markdown",
   "id": "24597924-efae-4636-946e-df9dbb59b970",
   "metadata": {},
   "source": [
    "**Réponse** : $n$ fois (c'est aussi le nombre d'entiers dans $\\{0, ..., n - 1\\}$."
   ]
  },
  {
   "cell_type": "markdown",
   "id": "5775f8d8-ae34-4aa0-b368-6a43a76491de",
   "metadata": {},
   "source": [
    "L'exemple suivant permet de calculer la somme des 100 premiers entiers ($0 + 1 + 2 + ... + 99$) :"
   ]
  },
  {
   "cell_type": "code",
   "execution_count": 2,
   "id": "a5d049a7-be61-46fa-a6cd-d4eb2bf2b6b8",
   "metadata": {
    "execution": {
     "iopub.execute_input": "2021-08-22T20:27:19.693413Z",
     "iopub.status.busy": "2021-08-22T20:27:19.692757Z",
     "iopub.status.idle": "2021-08-22T20:27:19.695387Z",
     "shell.execute_reply": "2021-08-22T20:27:19.695800Z"
    }
   },
   "outputs": [
    {
     "data": {
      "text/plain": [
       "4950"
      ]
     },
     "execution_count": 1,
     "metadata": {},
     "output_type": "execute_result"
    }
   ],
   "source": [
    "somme = 0\n",
    "for k in range(100):\n",
    "    somme += k  # même chose que somme = somme + k\n",
    "somme"
   ]
  },
  {
   "cell_type": "markdown",
   "id": "0262bcde-d83e-4037-9817-94d366b2ae80",
   "metadata": {},
   "source": [
    "**Exercice** : Quelle formule connaissez-vous pour la somme précédente? L'utiliser pour vérifier votre résultat."
   ]
  },
  {
   "cell_type": "markdown",
   "id": "7f515dd4-1817-4768-96dd-521e18d7fd0b",
   "metadata": {},
   "source": [
    "Une variante du `range` permet de parcourir les entiers de $a$ à $b - 1$ : `for i in range(a, b)`."
   ]
  },
  {
   "cell_type": "code",
   "execution_count": 3,
   "id": "8b5e71a7-3e0a-4656-9546-a3688aaa3792",
   "metadata": {
    "execution": {
     "iopub.execute_input": "2021-08-22T20:27:19.699337Z",
     "iopub.status.busy": "2021-08-22T20:27:19.698884Z",
     "iopub.status.idle": "2021-08-22T20:27:19.701395Z",
     "shell.execute_reply": "2021-08-22T20:27:19.700957Z"
    }
   },
   "outputs": [
    {
     "name": "stdout",
     "output_type": "stream",
     "text": [
      "3\n",
      "4\n",
      "5\n"
     ]
    }
   ],
   "source": [
    "for i in range(3, 6):\n",
    "    print(i)"
   ]
  },
  {
   "cell_type": "markdown",
   "id": "c353997e-9b97-4300-bd9c-f9376ad19d0c",
   "metadata": {},
   "source": [
    "**Exercice** : Calculer $\\sum_{k = 5}^{20} \\sqrt{k}$  (= $\\sqrt{5} + \\sqrt{6} + ... + \\sqrt{20}$)."
   ]
  },
  {
   "cell_type": "markdown",
   "id": "fc487f82-9699-43d3-a963-bc96a18e5f77",
   "metadata": {},
   "source": [
    "**Exercice** : Écrire une fonction `fact` telle que `fact(n)` renvoie $n!$ ($n$ factorielle), c'est à dire $n\\times(n-1)\\times ... \\times 2 \\times1$."
   ]
  },
  {
   "cell_type": "markdown",
   "id": "27c751f8-25d6-40d5-b974-b55b4898b24b",
   "metadata": {},
   "source": [
    "## for et liste\n",
    "\n",
    "Pour énumérer les éléments d'une listes, on peut parcourir ses indices :"
   ]
  },
  {
   "cell_type": "code",
   "execution_count": 4,
   "id": "5a59fce4-61f4-4035-b6d2-77a3936622a1",
   "metadata": {
    "execution": {
     "iopub.execute_input": "2021-08-22T20:27:19.704881Z",
     "iopub.status.busy": "2021-08-22T20:27:19.704366Z",
     "iopub.status.idle": "2021-08-22T20:27:19.707489Z",
     "shell.execute_reply": "2021-08-22T20:27:19.707096Z"
    }
   },
   "outputs": [
    {
     "name": "stdout",
     "output_type": "stream",
     "text": [
      "2\n",
      "3\n",
      "5\n",
      "7\n",
      "11\n"
     ]
    }
   ],
   "source": [
    "L = [2, 3, 5, 7, 11]\n",
    "for i in range(len(L)):  # les indices de L vont de 0 à len(L) - 1\n",
    "    print(L[i])"
   ]
  },
  {
   "cell_type": "markdown",
   "id": "f3c20573-72a5-4737-90d1-ef772cbda405",
   "metadata": {},
   "source": []
  },
  {
   "cell_type": "markdown",
   "id": "57ce6e6d-d79d-4af0-b932-56a82c22b436",
   "metadata": {},
   "source": [
    "Grosso modo, c'est la liste des entiers de 0 à $n - 1$, ce qu'on peut vérifier :"
   ]
  },
  {
   "cell_type": "code",
   "execution_count": 5,
   "id": "46115298-1596-4c29-911e-2b0472a0b207",
   "metadata": {
    "execution": {
     "iopub.execute_input": "2021-08-22T20:27:19.710958Z",
     "iopub.status.busy": "2021-08-22T20:27:19.710510Z",
     "iopub.status.idle": "2021-08-22T20:27:19.713218Z",
     "shell.execute_reply": "2021-08-22T20:27:19.713601Z"
    }
   },
   "outputs": [
    {
     "data": {
      "text/plain": [
       "[0, 1, 2, 3, 4]"
      ]
     },
     "execution_count": 1,
     "metadata": {},
     "output_type": "execute_result"
    }
   ],
   "source": [
    "list(range(5))  # liste des entiers de 0 à 4"
   ]
  },
  {
   "cell_type": "markdown",
   "id": "a1b55d8c-536d-467e-a699-e7716489b8a8",
   "metadata": {},
   "source": []
  }
 ],
 "metadata": {
  "kernelspec": {
   "display_name": "Python 3",
   "language": "python",
   "name": "python3"
  },
  "language_info": {
   "codemirror_mode": {
    "name": "ipython",
    "version": 3
   },
   "file_extension": ".py",
   "mimetype": "text/x-python",
   "name": "python",
   "nbconvert_exporter": "python",
   "pygments_lexer": "ipython3",
   "version": "3.8.10"
  }
 },
 "nbformat": 4,
 "nbformat_minor": 5
}
