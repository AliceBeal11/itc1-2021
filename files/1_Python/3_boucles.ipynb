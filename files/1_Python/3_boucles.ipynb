{
 "cells": [
  {
   "cell_type": "markdown",
   "source": [
    "# Boucle for"
   ],
   "metadata": {}
  },
  {
   "cell_type": "markdown",
   "source": [
    "## Range"
   ],
   "metadata": {}
  },
  {
   "cell_type": "markdown",
   "source": [
    "Une boucle `for` permet de répéter des instructions un certain nombre de fois :"
   ],
   "metadata": {}
  },
  {
   "cell_type": "code",
   "execution_count": 1,
   "source": [
    "for i in range(5):\n",
    "    print(i)  # affiche i pour i variant de 0 à 4"
   ],
   "outputs": [
    {
     "output_type": "stream",
     "name": "stdout",
     "text": [
      "0\n",
      "1\n",
      "2\n",
      "3\n",
      "4\n"
     ]
    }
   ],
   "metadata": {}
  },
  {
   "cell_type": "markdown",
   "source": [
    "**Remarque** : on utilise souvent `i` comme nom de variable, mais on aurait pu l'appeler autrement. Par exemple le code suivant fait exactement la même chose :\n",
    "```python\n",
    "for variable in range(5):\n",
    "    print(variable)\n",
    "```    "
   ],
   "metadata": {}
  },
  {
   "cell_type": "markdown",
   "source": [
    "**Attention** : une boucle `for i in range(n)` commence à 0 et finit à $n - 1$ (l'indice de fin est toujours exclu en Python). "
   ],
   "metadata": {}
  },
  {
   "cell_type": "markdown",
   "source": [
    "**Exercice** : Combien de fois s'exécute une boucle `for i in range(n)`?"
   ],
   "metadata": {}
  },
  {
   "cell_type": "markdown",
   "source": [
    "**Réponse** : $n$ fois (c'est aussi le nombre d'entiers dans $\\{0, ..., n - 1\\}$."
   ],
   "metadata": {}
  },
  {
   "cell_type": "markdown",
   "source": [
    "L'exemple suivant permet de calculer la somme des 100 premiers entiers ($0 + 1 + 2 + ... + 99$) :"
   ],
   "metadata": {}
  },
  {
   "cell_type": "code",
   "execution_count": 15,
   "source": [
    "somme = 0\n",
    "for k in range(100):\n",
    "    somme += k  # même chose que somme = somme + k\n",
    "somme"
   ],
   "outputs": [
    {
     "output_type": "execute_result",
     "data": {
      "text/plain": [
       "4950"
      ]
     },
     "metadata": {},
     "execution_count": 15
    }
   ],
   "metadata": {}
  },
  {
   "cell_type": "markdown",
   "source": [
    "**Exercice** : Quelle formule connaissez-vous pour la somme précédente? L'utiliser pour vérifier votre résultat."
   ],
   "metadata": {}
  },
  {
   "cell_type": "code",
   "execution_count": 8,
   "source": [
    "n = 100\n",
    "n*(n-1)/2  # formule de Gauss"
   ],
   "outputs": [
    {
     "output_type": "execute_result",
     "data": {
      "text/plain": [
       "4950.0"
      ]
     },
     "metadata": {},
     "execution_count": 8
    }
   ],
   "metadata": {
    "tags": [
     "cor"
    ]
   }
  },
  {
   "cell_type": "markdown",
   "source": [
    "Une variante du `range` permet de parcourir les entiers de $a$ à $b - 1$ : `for i in range(a, b)`."
   ],
   "metadata": {}
  },
  {
   "cell_type": "code",
   "execution_count": 12,
   "source": [
    "for i in range(3, 6):\n",
    "    print(i)"
   ],
   "outputs": [
    {
     "output_type": "stream",
     "name": "stdout",
     "text": [
      "3\n",
      "4\n",
      "5\n"
     ]
    }
   ],
   "metadata": {}
  },
  {
   "cell_type": "markdown",
   "source": [
    "**Exercice** : Calculer $\\sum_{k = 5}^{20} \\sqrt{k}$  (= $\\sqrt{5} + \\sqrt{6} + ... + \\sqrt{20}$)."
   ],
   "metadata": {}
  },
  {
   "cell_type": "code",
   "execution_count": 18,
   "source": [
    "somme_racine = 0\n",
    "for i in range(5, 21):\n",
    "    somme_racine += i**0.5\n",
    "somme_racine"
   ],
   "outputs": [
    {
     "output_type": "execute_result",
     "data": {
      "text/plain": [
       "55.519713441477826"
      ]
     },
     "metadata": {},
     "execution_count": 18
    }
   ],
   "metadata": {
    "tags": [
     "cor"
    ]
   }
  },
  {
   "cell_type": "markdown",
   "source": [
    "**Exercice** : Écrire une fonction `fact` telle que `fact(n)` renvoie $n!$ ($n$ factorielle), c'est à dire $n\\times(n-1)\\times ... \\times 2 \\times1$."
   ],
   "metadata": {}
  },
  {
   "cell_type": "code",
   "execution_count": 19,
   "source": [
    "def fact(n):\n",
    "    res = 1\n",
    "    for i in range(2, n+1):\n",
    "        res *= i  # pareil que res = res * i\n",
    "    return res\n",
    "\n",
    "fact(6)"
   ],
   "outputs": [
    {
     "output_type": "execute_result",
     "data": {
      "text/plain": [
       "720"
      ]
     },
     "metadata": {},
     "execution_count": 19
    }
   ],
   "metadata": {
    "tags": [
     "cor"
    ]
   }
  },
  {
   "cell_type": "markdown",
   "source": [
    "Une boucle for est utile pour calculer les termes d'une suite récurrente $u_n$. Pour cela, on définie une variable `un` valant initialement $u_0$ que l'on remplace par la valeur suivante de la suite dans uen boucle `for`. Ainsi `un` prend la valeur de $u_0$, puis  $u_1$, $u_2$..."
   ],
   "metadata": {}
  },
  {
   "cell_type": "markdown",
   "source": [
    "**Exercice** : Calculer $u_{10}$, où $u_n$ est définie par $u_0 = 42$ et $u_{n+1} = \\sqrt{u_n} + 3u_n$."
   ],
   "metadata": {}
  },
  {
   "cell_type": "code",
   "execution_count": 22,
   "source": [
    "un = 42\n",
    "for _ in range(10):\n",
    "    un = un**.5 + 3*un\n",
    "un"
   ],
   "outputs": [
    {
     "output_type": "execute_result",
     "data": {
      "text/plain": [
       "2787204.895558157"
      ]
     },
     "metadata": {},
     "execution_count": 22
    }
   ],
   "metadata": {}
  },
  {
   "cell_type": "markdown",
   "source": [
    "**Exercice** Calculer $v_n$ défini par :\n",
    "$$v_0 = v_1 = 1$$\n",
    "$$v_{n + 2} = v_{n + 1} + v_{n}$$"
   ],
   "metadata": {}
  },
  {
   "cell_type": "markdown",
   "source": [
    "## for et liste\n",
    "\n",
    "Pour énumérer les éléments d'une listes, on peut parcourir ses indices :"
   ],
   "metadata": {}
  },
  {
   "cell_type": "code",
   "execution_count": 9,
   "source": [
    "L = [2, 3, 5, 7, 11]\n",
    "for i in range(len(L)):  # les indices de L vont de 0 à len(L) - 1\n",
    "    print(L[i])"
   ],
   "outputs": [
    {
     "output_type": "stream",
     "name": "stdout",
     "text": [
      "2\n",
      "3\n",
      "5\n",
      "7\n",
      "11\n"
     ]
    }
   ],
   "metadata": {}
  },
  {
   "cell_type": "markdown",
   "source": [
    "Lorsqu'on n'a pas besoin des indices, on peut utiliser `for e in L` (attention toutefois à ne pas confondre indice et élément):"
   ],
   "metadata": {}
  },
  {
   "cell_type": "code",
   "execution_count": 5,
   "source": [
    "for e in L:\n",
    "    print(e)"
   ],
   "outputs": [
    {
     "output_type": "stream",
     "name": "stdout",
     "text": [
      "2\n",
      "3\n",
      "5\n",
      "7\n",
      "11\n"
     ]
    }
   ],
   "metadata": {}
  },
  {
   "cell_type": "markdown",
   "source": [
    "**Exercice** : Écrire une fonction pour calculer la somme des éléments d'une liste."
   ],
   "metadata": {}
  },
  {
   "cell_type": "code",
   "execution_count": null,
   "source": [
    "def somme(L):\n",
    "    res = 0\n",
    "    for e in L:\n",
    "        res += e\n",
    "    return res"
   ],
   "outputs": [],
   "metadata": {}
  },
  {
   "cell_type": "markdown",
   "source": [
    "**Exercice** : Écrire une fonction `appartient` telle que `appartient(x, L)` renvoie `True` si `x` appartient à la liste `L`, `False` sinon."
   ],
   "metadata": {}
  },
  {
   "cell_type": "code",
   "execution_count": 1,
   "source": [
    "def appartient(x, L):\n",
    "    for e in L:\n",
    "        if x == e:\n",
    "            return True\n",
    "    return False"
   ],
   "outputs": [],
   "metadata": {}
  },
  {
   "cell_type": "markdown",
   "source": [
    "**Exercice** : \n",
    "1. Écrire une fonction pour déterminer si une liste est triée par ordre croissant.\n",
    "2. En déduire une fonction pour savoir si la liste est triée par ordre décroissant. On pourra utiliser `not` pour la négation."
   ],
   "metadata": {}
  },
  {
   "cell_type": "code",
   "execution_count": 27,
   "source": [
    "# 1.\n",
    "def croissant(L):\n",
    "    for i in range(len(L) - 1): # ici on est obligé de parcourir les indices pour comparer 2 éléments consécutifs\n",
    "        if L[i] > L[i+1]:\n",
    "            return False\n",
    "    return True\n",
    "\n",
    "# 2.\n",
    "def decroissant(L):\n",
    "    return not croissant(L)"
   ],
   "outputs": [
    {
     "output_type": "error",
     "ename": "SyntaxError",
     "evalue": "invalid syntax (<ipython-input-27-2b0e512eade5>, line 1)",
     "traceback": [
      "\u001b[0;36m  File \u001b[0;32m\"<ipython-input-27-2b0e512eade5>\"\u001b[0;36m, line \u001b[0;32m1\u001b[0m\n\u001b[0;31m    (* 1. *)\u001b[0m\n\u001b[0m           ^\u001b[0m\n\u001b[0;31mSyntaxError\u001b[0m\u001b[0;31m:\u001b[0m invalid syntax\n"
     ]
    }
   ],
   "metadata": {}
  },
  {
   "cell_type": "markdown",
   "source": [
    "Par défaut, une boucle `for i in range(n)` fait augmenter `i` de un à chaque passage. Il est possible de changer ce pas :"
   ],
   "metadata": {}
  },
  {
   "cell_type": "code",
   "execution_count": 23,
   "source": [
    "for i in range(0, 10, 2):  # entier de 0 à 9 en allant de 2 en 2\n",
    "    print(i)"
   ],
   "outputs": [
    {
     "output_type": "stream",
     "name": "stdout",
     "text": [
      "0\n",
      "2\n",
      "4\n",
      "6\n",
      "8\n"
     ]
    }
   ],
   "metadata": {}
  },
  {
   "cell_type": "markdown",
   "source": [
    "# Boucle while"
   ],
   "metadata": {}
  },
  {
   "cell_type": "markdown",
   "source": [
    "La boucle while répète des instructions tant qu'une condition est vraie :"
   ],
   "metadata": {}
  },
  {
   "cell_type": "code",
   "execution_count": 26,
   "source": [
    "i = 3\n",
    "while i >= 0:\n",
    "    print(i)\n",
    "    i -= 1"
   ],
   "outputs": [
    {
     "output_type": "stream",
     "name": "stdout",
     "text": [
      "3\n",
      "2\n",
      "1\n",
      "0\n"
     ]
    }
   ],
   "metadata": {}
  },
  {
   "cell_type": "markdown",
   "source": [
    "**Attention** : si la condition est toujours vraie, il y a \"boucle infinie\" et il faut l'arrêter avec le bouton stop : \n",
    "<center><img src=img/stop.png width=300></center>"
   ],
   "metadata": {}
  }
 ],
 "metadata": {
  "kernelspec": {
   "name": "python3",
   "display_name": "Python 3.9.1 64-bit ('base': conda)"
  },
  "language_info": {
   "codemirror_mode": {
    "name": "ipython",
    "version": 3
   },
   "file_extension": ".py",
   "mimetype": "text/x-python",
   "name": "python",
   "nbconvert_exporter": "python",
   "pygments_lexer": "ipython3",
   "version": "3.9.1"
  },
  "interpreter": {
   "hash": "80d9894a3b5815f7372610aa6642550cfc561afb6a89a6bb320ec4bc44e3d10c"
  }
 },
 "nbformat": 4,
 "nbformat_minor": 5
}