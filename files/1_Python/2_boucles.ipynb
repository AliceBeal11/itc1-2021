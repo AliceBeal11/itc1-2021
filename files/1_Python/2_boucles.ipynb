{
 "cells": [
  {
   "cell_type": "markdown",
   "id": "a326df56",
   "metadata": {},
   "source": [
    "# Condition if\n",
    "\n",
    "On peut écrire une condition `if` de la façon suivante en Python :\n",
    "```python\n",
    "if condition:\n",
    "    instruction\n",
    "```"
   ]
  },
  {
   "cell_type": "code",
   "execution_count": 1,
   "id": "96ac6a85",
   "metadata": {
    "execution": {
     "iopub.execute_input": "2021-08-09T17:03:05.090657Z",
     "iopub.status.busy": "2021-08-09T17:03:05.089282Z",
     "iopub.status.idle": "2021-08-09T17:03:05.095534Z",
     "shell.execute_reply": "2021-08-09T17:03:05.094184Z"
    }
   },
   "outputs": [
    {
     "name": "stdout",
     "output_type": "stream",
     "text": [
      "You don't say?\n"
     ]
    }
   ],
   "source": [
    "if 1 < 2:\n",
    "    print(\"You don't say?\")"
   ]
  },
  {
   "cell_type": "markdown",
   "id": "5bd45e71",
   "metadata": {},
   "source": [
    "On peut aussi utiliser `else` pour spécifier ce qui passe si la condition est fausse :"
   ]
  },
  {
   "cell_type": "code",
   "execution_count": 2,
   "id": "c8234b2f",
   "metadata": {
    "execution": {
     "iopub.execute_input": "2021-08-09T17:03:05.103248Z",
     "iopub.status.busy": "2021-08-09T17:03:05.101980Z",
     "iopub.status.idle": "2021-08-09T17:03:05.107270Z",
     "shell.execute_reply": "2021-08-09T17:03:05.106146Z"
    }
   },
   "outputs": [
    {
     "name": "stdout",
     "output_type": "stream",
     "text": [
      "You don't say?\n"
     ]
    }
   ],
   "source": [
    "if 1 < 2:\n",
    "    print(\"You don't say?\")\n",
    "else:\n",
    "    print(\"??!!\")"
   ]
  },
  {
   "cell_type": "code",
   "execution_count": null,
   "id": "3fda5288",
   "metadata": {},
   "outputs": [],
   "source": []
  }
 ],
 "metadata": {
  "jupytext": {
   "cell_metadata_filter": "-all",
   "main_language": "python",
   "notebook_metadata_filter": "-all"
  },
  "language_info": {
   "codemirror_mode": {
    "name": "ipython",
    "version": 3
   },
   "file_extension": ".py",
   "mimetype": "text/x-python",
   "name": "python",
   "nbconvert_exporter": "python",
   "pygments_lexer": "ipython3",
   "version": "3.9.6"
  }
 },
 "nbformat": 4,
 "nbformat_minor": 5
}
