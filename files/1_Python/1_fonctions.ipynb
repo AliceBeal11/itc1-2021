{
 "cells": [
  {
   "cell_type": "markdown",
   "id": "31e1aa44",
   "metadata": {},
   "source": [
    "# Définition de fonction\n",
    "\n",
    "Voici un exemple de définition de fonction avec Python :"
   ]
  },
  {
   "cell_type": "code",
   "execution_count": 1,
   "id": "1319082b",
   "metadata": {
    "execution": {
     "iopub.execute_input": "2021-08-15T14:27:35.156223Z",
     "iopub.status.busy": "2021-08-15T14:27:35.155821Z",
     "iopub.status.idle": "2021-08-15T14:27:35.157683Z",
     "shell.execute_reply": "2021-08-15T14:27:35.157280Z"
    }
   },
   "outputs": [],
   "source": [
    "def f(x):\n",
    "    return 2*x"
   ]
  },
  {
   "cell_type": "markdown",
   "id": "b9f900eb",
   "metadata": {},
   "source": [
    "- `f` est le **nom** de la fonction\n",
    "- `x` est l'**argument** (ou **entrée**) de `f`\n",
    "- `2*x` est la **valeur de retour** (ou **sortie**) de `f`\n",
    "\n",
    "Mathématiquement, `f` correspond à la fonction mathématiques $f : x \\longmapsto 2x$."
   ]
  },
  {
   "cell_type": "markdown",
   "id": "89d3e3bb",
   "metadata": {},
   "source": [
    "On utilise une fonction en écrivant son nom suivi d'une valeur pour ses arguments (on dit qu'on **appelle** `f`) :"
   ]
  },
  {
   "cell_type": "code",
   "execution_count": 2,
   "id": "4baaad07",
   "metadata": {
    "execution": {
     "iopub.execute_input": "2021-08-15T14:27:35.163947Z",
     "iopub.status.busy": "2021-08-15T14:27:35.163552Z",
     "iopub.status.idle": "2021-08-15T14:27:35.165781Z",
     "shell.execute_reply": "2021-08-15T14:27:35.165475Z"
    }
   },
   "outputs": [
    {
     "data": {
      "text/plain": [
       "6"
      ]
     },
     "execution_count": 1,
     "metadata": {},
     "output_type": "execute_result"
    }
   ],
   "source": [
    "f(3) # calcule la valeur de retour de f avec x remplacé par 3"
   ]
  },
  {
   "cell_type": "markdown",
   "id": "eb8b0ded",
   "metadata": {},
   "source": [
    "La variable `x` dans `f` est **locale** : elle n'existe que dans `f` et ne peut pas être utilisée/modifiée en dehors. Par exemple :"
   ]
  },
  {
   "cell_type": "code",
   "execution_count": 3,
   "id": "726d4ddd",
   "metadata": {
    "execution": {
     "iopub.execute_input": "2021-08-15T14:27:35.168343Z",
     "iopub.status.busy": "2021-08-15T14:27:35.168012Z",
     "iopub.status.idle": "2021-08-15T14:27:35.196298Z",
     "shell.execute_reply": "2021-08-15T14:27:35.195986Z"
    }
   },
   "outputs": [
    {
     "ename": "NameError",
     "evalue": "name 'x' is not defined",
     "output_type": "error",
     "traceback": [
      "\u001b[0;31m---------------------------------------------------------------------------\u001b[0m",
      "\u001b[0;31mNameError\u001b[0m                                 Traceback (most recent call last)",
      "\u001b[0;32m<ipython-input-1-eb071cb97589>\u001b[0m in \u001b[0;36m<module>\u001b[0;34m\u001b[0m\n\u001b[1;32m      2\u001b[0m     \u001b[0;32mreturn\u001b[0m \u001b[0mx\u001b[0m\u001b[0;34m\u001b[0m\u001b[0;34m\u001b[0m\u001b[0m\n\u001b[1;32m      3\u001b[0m \u001b[0;34m\u001b[0m\u001b[0m\n\u001b[0;32m----> 4\u001b[0;31m \u001b[0mprint\u001b[0m\u001b[0;34m(\u001b[0m\u001b[0mx\u001b[0m\u001b[0;34m)\u001b[0m \u001b[0;31m# x n'existe qu'à l'intérieur de f, il ne faut pas essayer de l'utiliser en dehors\u001b[0m\u001b[0;34m\u001b[0m\u001b[0;34m\u001b[0m\u001b[0m\n\u001b[0m",
      "\u001b[0;31mNameError\u001b[0m: name 'x' is not defined"
     ]
    }
   ],
   "source": [
    "def f(x):\n",
    "    return x\n",
    "\n",
    "print(x) # x n'existe qu'à l'intérieur de f, il ne faut pas essayer de l'utiliser en dehors"
   ]
  },
  {
   "cell_type": "markdown",
   "id": "dbea5a4f",
   "metadata": {},
   "source": [
    "La variable `x` dans `f` est **muette** : de la même façon que la fonction mathématiques $f : x \\longmapsto 2x$ est équivalente à $f : y \\longmapsto 2y$, la fonction `f` ci-dessous est parfaitement équivalente à :"
   ]
  },
  {
   "cell_type": "code",
   "execution_count": 4,
   "id": "fde12cb2",
   "metadata": {
    "execution": {
     "iopub.execute_input": "2021-08-15T14:27:35.198655Z",
     "iopub.status.busy": "2021-08-15T14:27:35.198332Z",
     "iopub.status.idle": "2021-08-15T14:27:35.200249Z",
     "shell.execute_reply": "2021-08-15T14:27:35.199955Z"
    }
   },
   "outputs": [],
   "source": [
    "def f(y):\n",
    "    return 2*y"
   ]
  },
  {
   "cell_type": "markdown",
   "id": "aea9592d",
   "metadata": {},
   "source": [
    "**Exercice 1**\n",
    "1. Définir la fonction $g : z \\longmapsto \\sqrt z(z^2-1)$ en Python.\n",
    "2. Vérifier que $g(4) = 30$.\n",
    "3. En réutilisant `g`, définir $h : x \\longmapsto 3z + \\sqrt z(z^2-1)$ en Python. Vérifier que $h(4) = 42$."
   ]
  },
  {
   "cell_type": "code",
   "execution_count": 5,
   "id": "ab7d3bf6",
   "metadata": {
    "execution": {
     "iopub.execute_input": "2021-08-15T14:27:35.203341Z",
     "iopub.status.busy": "2021-08-15T14:27:35.202912Z",
     "iopub.status.idle": "2021-08-15T14:27:35.205515Z",
     "shell.execute_reply": "2021-08-15T14:27:35.205238Z"
    }
   },
   "outputs": [
    {
     "name": "stdout",
     "output_type": "stream",
     "text": [
      "30.0\n"
     ]
    },
    {
     "data": {
      "text/plain": [
       "42.0"
      ]
     },
     "execution_count": 1,
     "metadata": {},
     "output_type": "execute_result"
    }
   ],
   "source": [
    "# 1.\n",
    "def g(z):\n",
    "    return (z**2 - 1)*z**0.5\n",
    "\n",
    "# 2.\n",
    "print(g(4))\n",
    "\n",
    "# 3.\n",
    "def h(x):\n",
    "    return 3*x + g(x)\n",
    "h(4)"
   ]
  },
  {
   "cell_type": "markdown",
   "id": "e28573e4",
   "metadata": {},
   "source": [
    "**Exercice 2**\n",
    "1. Définir la fonction $inv : x \\longmapsto \\frac{1}{x}$ en Python.\n",
    "2. En réutilisant `inv`, définir $f : x \\longmapsto \\frac{1}{1+x^2}$ en Python. Vérifier que $f(2) = 0.2$."
   ]
  },
  {
   "cell_type": "code",
   "execution_count": 6,
   "id": "5e99467b",
   "metadata": {
    "execution": {
     "iopub.execute_input": "2021-08-15T14:27:35.208248Z",
     "iopub.status.busy": "2021-08-15T14:27:35.207895Z",
     "iopub.status.idle": "2021-08-15T14:27:35.210338Z",
     "shell.execute_reply": "2021-08-15T14:27:35.210008Z"
    }
   },
   "outputs": [
    {
     "data": {
      "text/plain": [
       "0.2"
      ]
     },
     "execution_count": 1,
     "metadata": {},
     "output_type": "execute_result"
    }
   ],
   "source": [
    "# 1.\n",
    "def inv(x):\n",
    "    return 1/x\n",
    "\n",
    "# 2.\n",
    "def f(x):\n",
    "    return inv(1 + x**2)\n",
    "f(2)"
   ]
  },
  {
   "cell_type": "markdown",
   "id": "0ade5b4b",
   "metadata": {},
   "source": [
    "# Pourquoi écrire des fonctions?\n",
    "\n",
    "Les fonctions offrent au moins 2 intérêts majeurs :\n",
    "- Elles permettent de réutiliser du code : appeller une fonction plutôt que réécrire plein de fois la même portion de code. En évitant de répéter un long bloc de code, on économise des lignes de code et on gagne en lisibilité.\n",
    "- Elles permettent de mieux comprendre le code, en donnant un nom significatif à la fonction."
   ]
  },
  {
   "cell_type": "markdown",
   "id": "9c3183fa",
   "metadata": {},
   "source": [
    "# Fonctions de plusieurs variables\n",
    "\n",
    "Pour l'instant, on a utilisé fonctions ayant un seul argument. De façon générale, une fonction (en Python ou en mathématiques) peut avoir n'importe quel nombre d'arguments. Par exemple :"
   ]
  },
  {
   "cell_type": "code",
   "execution_count": 7,
   "id": "a67552ea",
   "metadata": {
    "execution": {
     "iopub.execute_input": "2021-08-15T14:27:35.212619Z",
     "iopub.status.busy": "2021-08-15T14:27:35.212300Z",
     "iopub.status.idle": "2021-08-15T14:27:35.214131Z",
     "shell.execute_reply": "2021-08-15T14:27:35.213804Z"
    }
   },
   "outputs": [],
   "source": [
    "def somme(x, y): # cette fonction effectue la somme de deux nombres\n",
    "    return x + y"
   ]
  },
  {
   "cell_type": "markdown",
   "id": "85f1441d",
   "metadata": {},
   "source": [
    "On utilise la fonction `somme` en donnant deux valeurs pour `x` et `y` (dans l'ordre), séparées par une virgule :"
   ]
  },
  {
   "cell_type": "code",
   "execution_count": 8,
   "id": "09fff33e",
   "metadata": {
    "execution": {
     "iopub.execute_input": "2021-08-15T14:27:35.216491Z",
     "iopub.status.busy": "2021-08-15T14:27:35.216123Z",
     "iopub.status.idle": "2021-08-15T14:27:35.218507Z",
     "shell.execute_reply": "2021-08-15T14:27:35.218183Z"
    }
   },
   "outputs": [
    {
     "data": {
      "text/plain": [
       "7"
      ]
     },
     "execution_count": 1,
     "metadata": {},
     "output_type": "execute_result"
    }
   ],
   "source": [
    "somme(3, 4) # appelle somme en remplaçant x par 3 et y par 4"
   ]
  },
  {
   "cell_type": "markdown",
   "id": "e1562e17",
   "metadata": {},
   "source": [
    "On peut bien sûr utiliser plus de variables : "
   ]
  },
  {
   "cell_type": "code",
   "execution_count": 9,
   "id": "c8bdaee6",
   "metadata": {
    "execution": {
     "iopub.execute_input": "2021-08-15T14:27:35.221027Z",
     "iopub.status.busy": "2021-08-15T14:27:35.220676Z",
     "iopub.status.idle": "2021-08-15T14:27:35.223001Z",
     "shell.execute_reply": "2021-08-15T14:27:35.222677Z"
    }
   },
   "outputs": [
    {
     "data": {
      "text/plain": [
       "6"
      ]
     },
     "execution_count": 1,
     "metadata": {},
     "output_type": "execute_result"
    }
   ],
   "source": [
    "def somme3(x, y, z):\n",
    "    return x + y + z\n",
    "somme3(1, 2, 3)"
   ]
  },
  {
   "cell_type": "markdown",
   "id": "8f89a935",
   "metadata": {},
   "source": [
    "**Exercice** : Définir une fonction `delta` telle que `delta(a, b, c)` renvoie le discriminant de l'équation $ax^2 + bx + c = 0$. Vérifier que le discriminant de $x^2 + 2x + 3$ est $-8$."
   ]
  },
  {
   "cell_type": "code",
   "execution_count": 10,
   "id": "b2df729c",
   "metadata": {
    "execution": {
     "iopub.execute_input": "2021-08-15T14:27:35.225504Z",
     "iopub.status.busy": "2021-08-15T14:27:35.225154Z",
     "iopub.status.idle": "2021-08-15T14:27:35.227475Z",
     "shell.execute_reply": "2021-08-15T14:27:35.227141Z"
    }
   },
   "outputs": [
    {
     "data": {
      "text/plain": [
       "-8"
      ]
     },
     "execution_count": 1,
     "metadata": {},
     "output_type": "execute_result"
    }
   ],
   "source": [
    "def delta(a, b, c):\n",
    "    return b**2 - 4*a*c\n",
    "delta(1, 2, 3)"
   ]
  },
  {
   "cell_type": "markdown",
   "id": "1f39f9b9",
   "metadata": {},
   "source": [
    "# Fonctions prédéfinies\n",
    "Un **module** en Python est un ensemble de fonctions regroupées autour d'un même thème. Un des avantages de Python est son nombre de modules disponibles. Par exemple, NumPy contient de nombreuses fonctions mathématiques :"
   ]
  },
  {
   "cell_type": "code",
   "execution_count": 11,
   "id": "5819716d",
   "metadata": {
    "execution": {
     "iopub.execute_input": "2021-08-15T14:27:35.229937Z",
     "iopub.status.busy": "2021-08-15T14:27:35.229598Z",
     "iopub.status.idle": "2021-08-15T14:27:35.315215Z",
     "shell.execute_reply": "2021-08-15T14:27:35.315838Z"
    }
   },
   "outputs": [
    {
     "data": {
      "text/plain": [
       "2.718281828459045"
      ]
     },
     "execution_count": 1,
     "metadata": {},
     "output_type": "execute_result"
    }
   ],
   "source": [
    "import numpy as np # importe le module NumPy, toutes les fonctions devant être préfixées par np. pour être utilisée\n",
    "\n",
    "np.exp(1) # fonction exponentielle de NumPy"
   ]
  },
  {
   "cell_type": "code",
   "execution_count": 12,
   "id": "0cd2cb65",
   "metadata": {
    "execution": {
     "iopub.execute_input": "2021-08-15T14:27:35.318761Z",
     "iopub.status.busy": "2021-08-15T14:27:35.318120Z",
     "iopub.status.idle": "2021-08-15T14:27:35.322697Z",
     "shell.execute_reply": "2021-08-15T14:27:35.323355Z"
    }
   },
   "outputs": [
    {
     "data": {
      "text/plain": [
       "0.0"
      ]
     },
     "execution_count": 1,
     "metadata": {},
     "output_type": "execute_result"
    }
   ],
   "source": [
    "np.log(1) # logarithme naturel (néperien) de NumPy"
   ]
  },
  {
   "cell_type": "markdown",
   "id": "4e6620e4",
   "metadata": {},
   "source": [
    "**Exercice** Définir la fonction sigmoïde $s : x \\longmapsto \\frac{1}{1+e^{-x}}$. En calculant $s(x)$ pour de grandes valeurs de $x$, conjecturer son comportement en $+\\infty$."
   ]
  },
  {
   "cell_type": "code",
   "execution_count": 13,
   "id": "6f019afc",
   "metadata": {
    "execution": {
     "iopub.execute_input": "2021-08-15T14:27:35.326223Z",
     "iopub.status.busy": "2021-08-15T14:27:35.325554Z",
     "iopub.status.idle": "2021-08-15T14:27:35.330452Z",
     "shell.execute_reply": "2021-08-15T14:27:35.331078Z"
    }
   },
   "outputs": [
    {
     "data": {
      "text/plain": [
       "0.9999546021312976"
      ]
     },
     "execution_count": 1,
     "metadata": {},
     "output_type": "execute_result"
    }
   ],
   "source": [
    "def s(x):\n",
    "    return 1/(1 + np.exp(-x))\n",
    "s(10) # s a l'air de tendre vers 1 en l'infini"
   ]
  },
  {
   "cell_type": "markdown",
   "id": "95442339",
   "metadata": {},
   "source": [
    "Si on veut gagner du temps ou si on ne se souvient pas du nom de la fonction que l'on souhaite utiliser, on peut utiliser la touche Tab pour compléter automatiquement ce qu'on est en train d'écrire. On peut ensuite sélectionner la bonne fonction avec la touche Entrée :\n",
    "\n",
    "<img src=\"img/completion.png\" width=\"300\"/>"
   ]
  },
  {
   "cell_type": "markdown",
   "id": "7a5383bf",
   "metadata": {},
   "source": [
    "Il est possible d'obtenir de l'aide sur une fonction en cliquant dessus puis en appuyant sur les touches Shift+Tab (laisser appuyer sur Shift, puis appuyer sur Tab) :\n",
    "\n",
    "<img src=\"img/aide.png\" width=\"600\"/>\n"
   ]
  },
  {
   "cell_type": "code",
   "execution_count": null,
   "id": "f5629f4f",
   "metadata": {},
   "outputs": [],
   "source": []
  }
 ],
 "metadata": {
  "jupytext": {
   "cell_metadata_filter": "-all",
   "main_language": "python",
   "notebook_metadata_filter": "-all"
  },
  "language_info": {
   "codemirror_mode": {
    "name": "ipython",
    "version": 3
   },
   "file_extension": ".py",
   "mimetype": "text/x-python",
   "name": "python",
   "nbconvert_exporter": "python",
   "pygments_lexer": "ipython3",
   "version": "3.8.10"
  }
 },
 "nbformat": 4,
 "nbformat_minor": 5
}
