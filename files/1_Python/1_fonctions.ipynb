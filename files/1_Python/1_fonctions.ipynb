{
 "cells": [
  {
   "cell_type": "markdown",
   "id": "31e1aa44",
   "metadata": {},
   "source": [
    "# Définition de fonction\n",
    "\n",
    "Voici un exemple de définition de fonction avec Python :"
   ]
  },
  {
   "cell_type": "code",
   "execution_count": 1,
   "id": "1319082b",
   "metadata": {
    "execution": {
     "iopub.execute_input": "2021-08-23T16:07:59.530571Z",
     "iopub.status.busy": "2021-08-23T16:07:59.528935Z",
     "iopub.status.idle": "2021-08-23T16:07:59.535362Z",
     "shell.execute_reply": "2021-08-23T16:07:59.533398Z"
    }
   },
   "outputs": [],
   "source": [
    "def f(x):\n",
    "    return 2*x"
   ]
  },
  {
   "cell_type": "markdown",
   "id": "b9f900eb",
   "metadata": {},
   "source": [
    "- `f` est le **nom** de la fonction\n",
    "- `x` est l'**argument** (ou **entrée**) de `f`\n",
    "- `2*x` est la **valeur de retour** (ou **sortie**) de `f`\n",
    "\n",
    "Mathématiquement, `f` correspond à la fonction mathématiques $f : x \\longmapsto 2x$."
   ]
  },
  {
   "cell_type": "markdown",
   "id": "89d3e3bb",
   "metadata": {},
   "source": [
    "On utilise une fonction en écrivant son nom suivi d'une valeur pour ses arguments (on dit qu'on **appelle** `f`) :"
   ]
  },
  {
   "cell_type": "code",
   "execution_count": 2,
   "id": "4baaad07",
   "metadata": {
    "execution": {
     "iopub.execute_input": "2021-08-23T16:07:59.552442Z",
     "iopub.status.busy": "2021-08-23T16:07:59.547024Z",
     "iopub.status.idle": "2021-08-23T16:07:59.565488Z",
     "shell.execute_reply": "2021-08-23T16:07:59.564365Z"
    }
   },
   "outputs": [
    {
     "data": {
      "text/plain": [
       "6"
      ]
     },
     "execution_count": 2,
     "metadata": {},
     "output_type": "execute_result"
    }
   ],
   "source": [
    "f(3) # calcule la valeur de retour de f avec x remplacé par 3"
   ]
  },
  {
   "cell_type": "markdown",
   "id": "eb8b0ded",
   "metadata": {},
   "source": [
    "La variable `x` dans `f` est **locale** : elle n'existe que dans `f` et ne peut pas être utilisée/modifiée en dehors. Par exemple :"
   ]
  },
  {
   "cell_type": "code",
   "execution_count": 3,
   "id": "726d4ddd",
   "metadata": {
    "execution": {
     "iopub.execute_input": "2021-08-23T16:07:59.574517Z",
     "iopub.status.busy": "2021-08-23T16:07:59.573467Z",
     "iopub.status.idle": "2021-08-23T16:07:59.632686Z",
     "shell.execute_reply": "2021-08-23T16:07:59.632391Z"
    }
   },
   "outputs": [
    {
     "ename": "NameError",
     "evalue": "name 'x' is not defined",
     "output_type": "error",
     "traceback": [
      "\u001b[0;31m---------------------------------------------------------------------------\u001b[0m",
      "\u001b[0;31mNameError\u001b[0m                                 Traceback (most recent call last)",
      "\u001b[0;32m<ipython-input-3-eb071cb97589>\u001b[0m in \u001b[0;36m<module>\u001b[0;34m\u001b[0m\n\u001b[1;32m      2\u001b[0m     \u001b[0;32mreturn\u001b[0m \u001b[0mx\u001b[0m\u001b[0;34m\u001b[0m\u001b[0;34m\u001b[0m\u001b[0m\n\u001b[1;32m      3\u001b[0m \u001b[0;34m\u001b[0m\u001b[0m\n\u001b[0;32m----> 4\u001b[0;31m \u001b[0mprint\u001b[0m\u001b[0;34m(\u001b[0m\u001b[0mx\u001b[0m\u001b[0;34m)\u001b[0m \u001b[0;31m# x n'existe qu'à l'intérieur de f, il ne faut pas essayer de l'utiliser en dehors\u001b[0m\u001b[0;34m\u001b[0m\u001b[0;34m\u001b[0m\u001b[0m\n\u001b[0m",
      "\u001b[0;31mNameError\u001b[0m: name 'x' is not defined"
     ]
    }
   ],
   "source": [
    "def f(x):\n",
    "    return x\n",
    "\n",
    "print(x) # x n'existe qu'à l'intérieur de f, il ne faut pas essayer de l'utiliser en dehors"
   ]
  },
  {
   "cell_type": "markdown",
   "id": "dbea5a4f",
   "metadata": {},
   "source": [
    "La variable `x` dans `f` est **muette** : de la même façon que la fonction mathématiques $f : x \\longmapsto 2x$ est équivalente à $f : y \\longmapsto 2y$, la fonction `f` ci-dessous est parfaitement équivalente à :"
   ]
  },
  {
   "cell_type": "code",
   "execution_count": 4,
   "id": "fde12cb2",
   "metadata": {
    "execution": {
     "iopub.execute_input": "2021-08-23T16:07:59.635353Z",
     "iopub.status.busy": "2021-08-23T16:07:59.635029Z",
     "iopub.status.idle": "2021-08-23T16:07:59.636895Z",
     "shell.execute_reply": "2021-08-23T16:07:59.636514Z"
    }
   },
   "outputs": [],
   "source": [
    "def f(y):\n",
    "    return 2*y"
   ]
  },
  {
   "cell_type": "markdown",
   "id": "aea9592d",
   "metadata": {},
   "source": [
    "**Exercice 1**\n",
    "1. Définir la fonction $g : z \\longmapsto \\sqrt z(z^2-1)$ en Python.\n",
    "2. Vérifier que $g(4) = 30$.\n",
    "3. En réutilisant `g`, définir $h : x \\longmapsto 3z + \\sqrt z(z^2-1)$ en Python. Vérifier que $h(4) = 42$."
   ]
  },
  {
   "cell_type": "code",
   "execution_count": 5,
   "id": "ab7d3bf6",
   "metadata": {
    "execution": {
     "iopub.execute_input": "2021-08-23T16:07:59.640231Z",
     "iopub.status.busy": "2021-08-23T16:07:59.639725Z",
     "iopub.status.idle": "2021-08-23T16:07:59.642484Z",
     "shell.execute_reply": "2021-08-23T16:07:59.642215Z"
    }
   },
   "outputs": [
    {
     "name": "stdout",
     "output_type": "stream",
     "text": [
      "30.0\n"
     ]
    },
    {
     "data": {
      "text/plain": [
       "42.0"
      ]
     },
     "execution_count": 5,
     "metadata": {},
     "output_type": "execute_result"
    }
   ],
   "source": [
    "# 1.\n",
    "def g(z):\n",
    "    return (z**2 - 1)*z**0.5\n",
    "\n",
    "# 2.\n",
    "print(g(4))\n",
    "\n",
    "# 3.\n",
    "def h(x):\n",
    "    return 3*x + g(x)\n",
    "h(4)"
   ]
  },
  {
   "cell_type": "markdown",
   "id": "e28573e4",
   "metadata": {},
   "source": [
    "**Exercice 2**\n",
    "1. Définir la fonction $inv : x \\longmapsto \\frac{1}{x}$ en Python.\n",
    "2. En réutilisant `inv`, définir $f : x \\longmapsto \\frac{1}{1+x^2}$ en Python. Vérifier que $f(2) = 0.2$."
   ]
  },
  {
   "cell_type": "code",
   "execution_count": 6,
   "id": "5e99467b",
   "metadata": {
    "execution": {
     "iopub.execute_input": "2021-08-23T16:07:59.645355Z",
     "iopub.status.busy": "2021-08-23T16:07:59.645037Z",
     "iopub.status.idle": "2021-08-23T16:07:59.646851Z",
     "shell.execute_reply": "2021-08-23T16:07:59.647153Z"
    }
   },
   "outputs": [
    {
     "data": {
      "text/plain": [
       "0.2"
      ]
     },
     "execution_count": 6,
     "metadata": {},
     "output_type": "execute_result"
    }
   ],
   "source": [
    "# 1.\n",
    "def inv(x):\n",
    "    return 1/x\n",
    "\n",
    "# 2.\n",
    "def f(x):\n",
    "    return inv(1 + x**2)\n",
    "f(2)"
   ]
  },
  {
   "cell_type": "markdown",
   "id": "0ade5b4b",
   "metadata": {},
   "source": [
    "# Pourquoi écrire des fonctions?\n",
    "\n",
    "Les fonctions offrent au moins 2 intérêts majeurs :\n",
    "- Elles permettent de réutiliser du code : appeller une fonction plutôt que réécrire plein de fois la même portion de code. En évitant de répéter un long bloc de code, on économise des lignes de code et on gagne en lisibilité.\n",
    "- Elles permettent de mieux comprendre le code, en donnant un nom significatif à la fonction."
   ]
  },
  {
   "cell_type": "markdown",
   "id": "9c3183fa",
   "metadata": {},
   "source": [
    "# Fonctions de plusieurs variables\n",
    "\n",
    "Pour l'instant, on a utilisé fonctions ayant un seul argument. De façon générale, une fonction (en Python ou en mathématiques) peut avoir n'importe quel nombre d'arguments. Par exemple :"
   ]
  },
  {
   "cell_type": "code",
   "execution_count": 7,
   "id": "a67552ea",
   "metadata": {
    "execution": {
     "iopub.execute_input": "2021-08-23T16:07:59.649571Z",
     "iopub.status.busy": "2021-08-23T16:07:59.649216Z",
     "iopub.status.idle": "2021-08-23T16:07:59.651354Z",
     "shell.execute_reply": "2021-08-23T16:07:59.650997Z"
    }
   },
   "outputs": [],
   "source": [
    "def somme(x, y): # cette fonction effectue la somme de deux nombres\n",
    "    return x + y"
   ]
  },
  {
   "cell_type": "markdown",
   "id": "85f1441d",
   "metadata": {},
   "source": [
    "On utilise la fonction `somme` en donnant deux valeurs pour `x` et `y` (dans l'ordre), séparées par une virgule :"
   ]
  },
  {
   "cell_type": "code",
   "execution_count": 8,
   "id": "09fff33e",
   "metadata": {
    "execution": {
     "iopub.execute_input": "2021-08-23T16:07:59.654076Z",
     "iopub.status.busy": "2021-08-23T16:07:59.653757Z",
     "iopub.status.idle": "2021-08-23T16:07:59.656160Z",
     "shell.execute_reply": "2021-08-23T16:07:59.655805Z"
    }
   },
   "outputs": [
    {
     "data": {
      "text/plain": [
       "7"
      ]
     },
     "execution_count": 8,
     "metadata": {},
     "output_type": "execute_result"
    }
   ],
   "source": [
    "somme(3, 4) # appelle somme en remplaçant x par 3 et y par 4"
   ]
  },
  {
   "cell_type": "markdown",
   "id": "e1562e17",
   "metadata": {},
   "source": [
    "On peut bien sûr utiliser plus de variables : "
   ]
  },
  {
   "cell_type": "code",
   "execution_count": 9,
   "id": "c8bdaee6",
   "metadata": {
    "execution": {
     "iopub.execute_input": "2021-08-23T16:07:59.659028Z",
     "iopub.status.busy": "2021-08-23T16:07:59.658672Z",
     "iopub.status.idle": "2021-08-23T16:07:59.660714Z",
     "shell.execute_reply": "2021-08-23T16:07:59.661004Z"
    }
   },
   "outputs": [
    {
     "data": {
      "text/plain": [
       "6"
      ]
     },
     "execution_count": 9,
     "metadata": {},
     "output_type": "execute_result"
    }
   ],
   "source": [
    "def somme3(x, y, z):\n",
    "    return x + y + z\n",
    "somme3(1, 2, 3)"
   ]
  },
  {
   "cell_type": "markdown",
   "id": "8f89a935",
   "metadata": {},
   "source": [
    "**Exercice** : Définir une fonction `delta` telle que `delta(a, b, c)` renvoie le discriminant de l'équation $ax^2 + bx + c = 0$. Vérifier que le discriminant de $x^2 + 2x + 3$ est $-8$."
   ]
  },
  {
   "cell_type": "code",
   "execution_count": 10,
   "id": "b2df729c",
   "metadata": {
    "execution": {
     "iopub.execute_input": "2021-08-23T16:07:59.663833Z",
     "iopub.status.busy": "2021-08-23T16:07:59.663419Z",
     "iopub.status.idle": "2021-08-23T16:07:59.665721Z",
     "shell.execute_reply": "2021-08-23T16:07:59.665343Z"
    }
   },
   "outputs": [
    {
     "data": {
      "text/plain": [
       "-8"
      ]
     },
     "execution_count": 10,
     "metadata": {},
     "output_type": "execute_result"
    }
   ],
   "source": [
    "def delta(a, b, c):\n",
    "    return b**2 - 4*a*c\n",
    "delta(1, 2, 3)"
   ]
  },
  {
   "cell_type": "markdown",
   "id": "1f39f9b9",
   "metadata": {},
   "source": [
    "# Fonctions prédéfinies\n",
    "Un **module** en Python est un ensemble de fonctions regroupées autour d'un même thème. Un des avantages de Python est son nombre de modules disponibles. Par exemple, NumPy contient de nombreuses fonctions mathématiques :"
   ]
  },
  {
   "cell_type": "code",
   "execution_count": 11,
   "id": "5819716d",
   "metadata": {
    "execution": {
     "iopub.execute_input": "2021-08-23T16:07:59.668471Z",
     "iopub.status.busy": "2021-08-23T16:07:59.668131Z",
     "iopub.status.idle": "2021-08-23T16:07:59.907069Z",
     "shell.execute_reply": "2021-08-23T16:07:59.905527Z"
    }
   },
   "outputs": [
    {
     "data": {
      "text/plain": [
       "2.718281828459045"
      ]
     },
     "execution_count": 11,
     "metadata": {},
     "output_type": "execute_result"
    }
   ],
   "source": [
    "import numpy as np # importe le module NumPy, toutes les fonctions devant être préfixées par np. pour être utilisée\n",
    "\n",
    "np.exp(1) # fonction exponentielle de NumPy"
   ]
  },
  {
   "cell_type": "code",
   "execution_count": 12,
   "id": "0cd2cb65",
   "metadata": {
    "execution": {
     "iopub.execute_input": "2021-08-23T16:07:59.918710Z",
     "iopub.status.busy": "2021-08-23T16:07:59.916823Z",
     "iopub.status.idle": "2021-08-23T16:07:59.924554Z",
     "shell.execute_reply": "2021-08-23T16:07:59.923151Z"
    }
   },
   "outputs": [
    {
     "data": {
      "text/plain": [
       "0.0"
      ]
     },
     "execution_count": 12,
     "metadata": {},
     "output_type": "execute_result"
    }
   ],
   "source": [
    "np.log(1) # logarithme naturel (néperien) de NumPy"
   ]
  },
  {
   "cell_type": "markdown",
   "id": "4e6620e4",
   "metadata": {},
   "source": [
    "**Exercice** Définir la fonction sigmoïde $s : x \\longmapsto \\frac{1}{1+e^{-x}}$. En calculant $s(x)$ pour de grandes valeurs de $x$, conjecturer son comportement en $+\\infty$."
   ]
  },
  {
   "cell_type": "code",
   "execution_count": 13,
   "id": "6f019afc",
   "metadata": {
    "execution": {
     "iopub.execute_input": "2021-08-23T16:07:59.937375Z",
     "iopub.status.busy": "2021-08-23T16:07:59.935615Z",
     "iopub.status.idle": "2021-08-23T16:07:59.942678Z",
     "shell.execute_reply": "2021-08-23T16:07:59.943718Z"
    }
   },
   "outputs": [
    {
     "data": {
      "text/plain": [
       "0.9999546021312976"
      ]
     },
     "execution_count": 13,
     "metadata": {},
     "output_type": "execute_result"
    }
   ],
   "source": [
    "def s(x):\n",
    "    return 1/(1 + np.exp(-x))\n",
    "s(10) # s a l'air de tendre vers 1 en l'infini"
   ]
  },
  {
   "cell_type": "markdown",
   "id": "95442339",
   "metadata": {},
   "source": [
    "Si on veut gagner du temps ou si on ne se souvient pas du nom de la fonction que l'on souhaite utiliser, on peut utiliser la touche Tab pour compléter automatiquement ce qu'on est en train d'écrire. On peut ensuite sélectionner la bonne fonction avec la touche Entrée :\n",
    "\n",
    "<img src=\"img/completion.png\" width=\"300\"/>"
   ]
  },
  {
   "cell_type": "markdown",
   "id": "7a5383bf",
   "metadata": {},
   "source": [
    "Il est possible d'obtenir de l'aide sur une fonction en cliquant dessus puis en appuyant sur les touches Shift+Tab (laisser appuyer sur Shift, puis appuyer sur Tab) :\n",
    "\n",
    "<img src=\"img/aide.png\" width=\"600\"/>\n"
   ]
  },
  {
   "cell_type": "code",
   "execution_count": null,
   "id": "f5629f4f",
   "metadata": {},
   "outputs": [],
   "source": []
  }
 ],
 "metadata": {
  "jupytext": {
   "cell_metadata_filter": "-all",
   "main_language": "python",
   "notebook_metadata_filter": "-all"
  },
  "language_info": {
   "codemirror_mode": {
    "name": "ipython",
    "version": 3
   },
   "file_extension": ".py",
   "mimetype": "text/x-python",
   "name": "python",
   "nbconvert_exporter": "python",
   "pygments_lexer": "ipython3",
   "version": "3.9.6"
  }
 },
 "nbformat": 4,
 "nbformat_minor": 5
}
