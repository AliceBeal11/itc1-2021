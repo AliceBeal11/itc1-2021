{
 "cells": [
  {
   "cell_type": "markdown",
   "metadata": {},
   "source": [
    "# Testez vos réponses\n",
    "\n",
    "**Toutes les réponses aux exercices doivent être testées sur des exemples.**\n",
    "\n",
    "# Sauvegardez vos fichiers\n",
    "\n",
    "Normalement, vos modifications sur un notebook Jupyter sont sauvegardées dans le navigateur. Cependant, vous pouvez les perdre si le cache du navigateur est supprimé, par exemple. Pour cette raison, je vous conseille fortement de **télécharger (File -> download) votre notebook une fois que la séance est terminée**. Vous pouvez ensuite charger votre fichier (s'il a disparu) avec la flèche (\"Upload Files\") :\n",
    "<center><img src=img/upload.png width=200></center>"
   ]
  },
  {
   "cell_type": "markdown",
   "metadata": {},
   "source": [
    "\n",
    "# Inscription sur GitHub\n",
    "\n",
    "Le rendu de TP se fera sur GitHub, qui est un site utilisé par de nombreux développeurs pour partager leur code. Vous devez donc créer un compte sur [https://github.com/](https://github.com/) en cliquant sur Sign Up et en suivant les instructions. **Veuillez utiliser votre nom de famille et (au moins) l'initiale de votre prénom comme pseudo**.\n",
    "\n",
    "Sur la page du cours [https://github.com/fortierq/itc1-2021](https://github.com/fortierq/itc1-2021), vous pouvez \"Star\" et/ou \"Watch\" pour être averti des modifications (ajout d'un TP, d'une correction...).  \n",
    "Si vous avez des questions sur le cours, je vous encourange à utiliser l'espace \"Discussions\". J'essaierai de répondre rapidement. "
   ]
  },
  {
   "cell_type": "markdown",
   "metadata": {},
   "source": [
    "\n",
    "# Rendu de TP\n",
    "\n",
    "**Le(s) TP(s) devra être rendu complété chaque semaine**. Voici les démarches à suivre :\n",
    "- Dans Jupyter, faites un clic droit sur le notebook à rendre et cliquer sur Open With -> Editor : <center><img src=img/editor.png width=450></center>\n",
    "- Copier le contenu du fichier (Ctrl A pour tout sélectionner puis Ctrl C pour copier) : <center><img src=img/ctrlA.png width=700></center>\n",
    "- Aller sur [https://github.com/fortierq/itc1-2021](https://github.com/fortierq/itc1-2021).\n",
    "- Cliquer sur le fichier correspondant au TP que vous devez rendre : <center><img src=img/gh_file.png width=900></center>\n",
    "- Cliquer sur le petit crayon (Edit this file) : <center><img src=img/gh_edit.png width=900></center>\n",
    "- Remplacer par le contenu de votre notebook (Ctrl A puis Ctrl V).\n",
    "- Cliquer sur \"Propose changes\" tout en bas (vous pouvez éventuellement ajouter un commentaire) : <center><img src=img/commit.png width=900></center>.\n",
    "- Cliquer sur \"Create Pull Request\" : <center><img src=img/pr.png width=900></center>\n",
    "- Cliquer sur \"Create Pull Request\" en bas (vous pouvez éventuellement ajouter un commentaire) : <center><img src=img/pr2.png width=700></center>. \n",
    "\n",
    "Vous aurez ensuite des commentaires sur votre travail (peut-être pas chaque semaine... mais vous devrez rendre le TP chaque semaine).  \n",
    "Je posterai aussi un corrigé de chaque TP sur [https://github.com/fortierq/itc1-2021](https://github.com/fortierq/itc1-2021)."
   ]
  }
 ],
 "metadata": {
  "language_info": {
   "codemirror_mode": {
    "name": "ipython",
    "version": 3
   },
   "file_extension": ".py",
   "mimetype": "text/x-python",
   "name": "python",
   "nbconvert_exporter": "python",
   "pygments_lexer": "ipython3",
   "version": "3.9.6"
  }
 },
 "nbformat": 4,
 "nbformat_minor": 2
}
