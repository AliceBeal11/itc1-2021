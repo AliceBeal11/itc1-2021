{
 "cells": [
  {
   "cell_type": "markdown",
   "metadata": {},
   "source": [
    "# Prise en main de Jupyter\n",
    "\n",
    "Jupyter est composé de plusieurs cases. Chaque case peut être composé de Markdown (texte) ou de code.  \n",
    "Vous pouvez voir le contenu brut d'une case Markdown en double-cliquant dessus.  \n",
    "Pour revenir sur l'affichage d'origine, exécuter la case avec Ctrl + Entrée (laisser appuyer sur Ctrl puis sur Entrée), ou sur Shift + Entrée (ce qui permet en plus de passer à la case suivante)"
   ]
  },
  {
   "cell_type": "markdown",
   "metadata": {},
   "source": [
    "En plus de Shift + Entrée, voici quelques autres commandes utiles :\n",
    "- Flèches du clavier (haut, bas) pour se déplacer entre les cases.\n",
    "- Entrée : modifier la case en cours (indiqué par une barre latérale bleue).\n",
    "- A : créer une case au dessus de celle en cours (sauf si on est en train d'éditer la case).\n",
    "- B : même chose mais au dessous.\n",
    "- D D : supprimer la case en cours.\n",
    "\n",
    "Pour change le type d'une case (Markdown ou code), choisissez dans le menu déroulant :\n",
    "\n",
    "<img src=img/markdown.png width=300>"
   ]
  },
  {
   "cell_type": "markdown",
   "metadata": {},
   "source": [
    "Vous pouvez retrouver ces commandes, et d'autres, dans le menu de Jupyter."
   ]
  },
  {
   "cell_type": "markdown",
   "metadata": {},
   "source": [
    "# Markdown\n",
    "\n",
    "Voici un résumé des commandes spéciales Markdown :\n",
    "- `# Titre` pour écrire un titre\n",
    "- `**gras**` pour écrire du texte en **gras**\n",
    "- `*italique**` pour écrire en *italique*\n",
    "- `$\\sum_{k=0}^n 2^k$` pour écrire des formules mathématiques en LaTeX, ce qui donne par exemple :\n",
    "$$\\sum_{k=0}^n 2^k$$\n",
    "\n",
    "Pour plus de possibilités, regarder https://guides.github.com/features/mastering-markdown/"
   ]
  },
  {
   "cell_type": "markdown",
   "metadata": {},
   "source": [
    "# Code\n",
    "\n",
    "Lorsque vous exécutez une case de code, Jupyter vous donne la réponse :"
   ]
  },
  {
   "cell_type": "code",
   "execution_count": 1,
   "metadata": {
    "execution": {
     "iopub.execute_input": "2021-08-23T16:10:00.327269Z",
     "iopub.status.busy": "2021-08-23T16:10:00.321855Z",
     "iopub.status.idle": "2021-08-23T16:10:00.346790Z",
     "shell.execute_reply": "2021-08-23T16:10:00.348361Z"
    }
   },
   "outputs": [
    {
     "data": {
      "text/plain": [
       "1024.0"
      ]
     },
     "execution_count": 1,
     "metadata": {},
     "output_type": "execute_result"
    }
   ],
   "source": [
    "2.0**10.0 # calcul en Python"
   ]
  },
  {
   "cell_type": "markdown",
   "metadata": {},
   "source": [
    "Les fonctions/variables définies sur une case sont utilisables sur les cases suivantes :"
   ]
  },
  {
   "cell_type": "code",
   "execution_count": 2,
   "metadata": {
    "execution": {
     "iopub.execute_input": "2021-08-23T16:10:00.358332Z",
     "iopub.status.busy": "2021-08-23T16:10:00.356831Z",
     "iopub.status.idle": "2021-08-23T16:10:00.363116Z",
     "shell.execute_reply": "2021-08-23T16:10:00.361906Z"
    }
   },
   "outputs": [],
   "source": [
    "a = 3  # définition d'une variable a"
   ]
  },
  {
   "cell_type": "code",
   "execution_count": 3,
   "metadata": {
    "execution": {
     "iopub.execute_input": "2021-08-23T16:10:00.374937Z",
     "iopub.status.busy": "2021-08-23T16:10:00.373902Z",
     "iopub.status.idle": "2021-08-23T16:10:00.378802Z",
     "shell.execute_reply": "2021-08-23T16:10:00.379464Z"
    }
   },
   "outputs": [
    {
     "data": {
      "text/plain": [
       "3"
      ]
     },
     "execution_count": 3,
     "metadata": {},
     "output_type": "execute_result"
    }
   ],
   "source": [
    "a  # utilisation de a"
   ]
  },
  {
   "cell_type": "markdown",
   "metadata": {},
   "source": [
    "Parfois, du code peut ne jamais s'arrêter (en cas de boucle infinie, par exemple). Dans ce cas, appuyer sur le bouton stop :\n",
    "<center><img src=img/stop.png width=300></center>"
   ]
  }
 ],
 "metadata": {
  "interpreter": {
   "hash": "80d9894a3b5815f7372610aa6642550cfc561afb6a89a6bb320ec4bc44e3d10c"
  },
  "kernelspec": {
   "display_name": "Python 3.9.1 64-bit ('base': conda)",
   "name": "python3"
  },
  "language_info": {
   "codemirror_mode": {
    "name": "ipython",
    "version": 3
   },
   "file_extension": ".py",
   "mimetype": "text/x-python",
   "name": "python",
   "nbconvert_exporter": "python",
   "pygments_lexer": "ipython3",
   "version": "3.9.6"
  }
 },
 "nbformat": 4,
 "nbformat_minor": 4
}
