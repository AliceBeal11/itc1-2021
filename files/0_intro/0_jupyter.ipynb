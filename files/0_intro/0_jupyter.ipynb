{
 "cells": [
  {
   "cell_type": "markdown",
   "source": [
    "# Prise en main de Jupyter\n",
    "\n",
    "Jupyter est composé de plusieurs cases. Chaque case peut être composé de Markdown (texte) ou de code.  \n",
    "Vous pouvez voir le contenu brut d'une case Markdown en double-cliquant dessus.  \n",
    "Pour revenir sur l'affichage d'origine, exécuter la case avec Ctrl + Entrée (laisser appuyer sur Ctrl puis sur Entrée), ou sur Shift + Entrée (ce qui permet en plus de passer à la case suivante)"
   ],
   "metadata": {}
  },
  {
   "cell_type": "markdown",
   "source": [
    "Voici les commandes les plus utiles :\n",
    "- **Ctrl + Entrée** : exécuter la case en cours.\n",
    "- **Shift + Entrée** : exécuter la case en cours et passer à la suivante.\n",
    "- **Flèches du clavier (haut, bas)** pour se déplacer entre les cases.\n",
    "- **Entrée** : modifier la case en cours (indiqué par une barre latérale bleue).\n",
    "- **Échap** : sortir du mode édition (contraire de **Entrée**)\n",
    "- **B** : créer une case en dessous de celle en cours (il ne faut pas être en mode édition).\n",
    "- **A** : même chose mais au dessus de la case en cours.\n",
    "- **D D** : supprimer la case en cours.\n",
    "\n",
    "Pour changer le type d'une case (Markdown ou code), choisissez dans le menu déroulant :\n",
    "\n",
    "<center><img src=img/markdown.png width=300></center>"
   ],
   "metadata": {}
  },
  {
   "cell_type": "markdown",
   "source": [
    "Vous pouvez retrouver ces commandes, et d'autres, dans le menu de Jupyter."
   ],
   "metadata": {}
  },
  {
   "cell_type": "markdown",
   "source": [
    "# Markdown\n",
    "\n",
    "Voici un résumé des commandes spéciales Markdown :\n",
    "- `# Titre` pour écrire un titre\n",
    "- `**gras**` pour écrire du texte en **gras**\n",
    "- `*italique**` pour écrire en *italique*\n",
    "- `$\\sum_{k=0}^n 2^k$` pour écrire des formules mathématiques en LaTeX, ce qui donne par exemple :\n",
    "$$\\sum_{k=0}^n 2^k$$\n",
    "\n",
    "Pour plus de possibilités, regarder https://guides.github.com/features/mastering-markdown/"
   ],
   "metadata": {}
  },
  {
   "cell_type": "markdown",
   "source": [
    "# Code\n",
    "\n",
    "Lorsque vous exécutez une case de code, Jupyter vous donne la réponse :"
   ],
   "metadata": {}
  },
  {
   "cell_type": "code",
   "execution_count": 1,
   "source": [
    "2.0**10.0 # calcul en Python"
   ],
   "outputs": [
    {
     "output_type": "execute_result",
     "data": {
      "text/plain": [
       "1024.0"
      ]
     },
     "metadata": {},
     "execution_count": 1
    }
   ],
   "metadata": {}
  },
  {
   "cell_type": "markdown",
   "source": [
    "Les fonctions/variables définies sur une case sont utilisables sur les cases suivantes :"
   ],
   "metadata": {}
  },
  {
   "cell_type": "code",
   "execution_count": 1,
   "source": [
    "a = 3  # définition d'une variable a"
   ],
   "outputs": [],
   "metadata": {}
  },
  {
   "cell_type": "code",
   "execution_count": 2,
   "source": [
    "a  # utilisation de a"
   ],
   "outputs": [
    {
     "output_type": "execute_result",
     "data": {
      "text/plain": [
       "3"
      ]
     },
     "metadata": {},
     "execution_count": 2
    }
   ],
   "metadata": {}
  },
  {
   "cell_type": "markdown",
   "source": [
    "Parfois, du code peut ne jamais s'arrêter (en cas de boucle infinie, par exemple). Dans ce cas, appuyer sur le bouton stop :\n",
    "<center><img src=img/stop.png width=300></center>\n",
    "\n",
    "**Exemple** : exécuter la boucle infinie suivante puis l'arrêter avec le bouton ci-dessus."
   ],
   "metadata": {}
  },
  {
   "cell_type": "code",
   "execution_count": 3,
   "source": [
    "while True:\n",
    "    pass    "
   ],
   "outputs": [
    {
     "output_type": "error",
     "ename": "KeyboardInterrupt",
     "evalue": "",
     "traceback": [
      "\u001b[0;31m---------------------------------------------------------------------------\u001b[0m",
      "\u001b[0;31mKeyboardInterrupt\u001b[0m                         Traceback (most recent call last)",
      "\u001b[0;32m<ipython-input-3-8a5b4d79cfa1>\u001b[0m in \u001b[0;36m<module>\u001b[0;34m\u001b[0m\n\u001b[1;32m      1\u001b[0m \u001b[0;32mwhile\u001b[0m \u001b[0;32mTrue\u001b[0m\u001b[0;34m:\u001b[0m\u001b[0;34m\u001b[0m\u001b[0;34m\u001b[0m\u001b[0m\n\u001b[0;32m----> 2\u001b[0;31m     \u001b[0;32mpass\u001b[0m\u001b[0;34m\u001b[0m\u001b[0;34m\u001b[0m\u001b[0m\n\u001b[0m",
      "\u001b[0;31mKeyboardInterrupt\u001b[0m: "
     ]
    }
   ],
   "metadata": {}
  },
  {
   "cell_type": "markdown",
   "source": [
    "Si vous n'écrivez pas de code pendant longtemps, Binder va automatiquement stopper votre kernel (le langage que vous êtes en train d'utiliser). Il faut le redémarrer en cliquant sur \"No Kernel\" :\n",
    "<center><img src=img/kernel.png width=300></center>\n"
   ],
   "metadata": {}
  },
  {
   "cell_type": "markdown",
   "source": [],
   "metadata": {}
  }
 ],
 "metadata": {
  "kernelspec": {
   "name": "python3",
   "display_name": "Python 3.8.10 64-bit"
  },
  "language_info": {
   "name": "python",
   "version": "3.8.10",
   "mimetype": "text/x-python",
   "codemirror_mode": {
    "name": "ipython",
    "version": 3
   },
   "pygments_lexer": "ipython3",
   "nbconvert_exporter": "python",
   "file_extension": ".py"
  },
  "interpreter": {
   "hash": "31f2aee4e71d21fbe5cf8b01ff0e069b9275f58929596ceb00d14d90e3e16cd6"
  }
 },
 "nbformat": 4,
 "nbformat_minor": 4
}